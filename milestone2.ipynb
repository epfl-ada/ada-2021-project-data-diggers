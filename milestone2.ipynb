{
 "cells": [
  {
   "cell_type": "code",
   "execution_count": 1,
   "metadata": {
    "colab": {
     "base_uri": "https://localhost:8080/"
    },
    "id": "CEcIlRwfWY4C",
    "outputId": "58f914e6-0d55-45c7-f3e3-bdfe4de0fdf2"
   },
   "outputs": [
    {
     "ename": "ModuleNotFoundError",
     "evalue": "No module named 'google'",
     "output_type": "error",
     "traceback": [
      "\u001b[0;31m---------------------------------------------------------------------------\u001b[0m",
      "\u001b[0;31mModuleNotFoundError\u001b[0m                       Traceback (most recent call last)",
      "\u001b[0;32m<ipython-input-1-d5df0069828e>\u001b[0m in \u001b[0;36m<module>\u001b[0;34m\u001b[0m\n\u001b[0;32m----> 1\u001b[0;31m \u001b[0;32mfrom\u001b[0m \u001b[0mgoogle\u001b[0m\u001b[0;34m.\u001b[0m\u001b[0mcolab\u001b[0m \u001b[0;32mimport\u001b[0m \u001b[0mdrive\u001b[0m\u001b[0;34m\u001b[0m\u001b[0;34m\u001b[0m\u001b[0m\n\u001b[0m\u001b[1;32m      2\u001b[0m \u001b[0mdrive\u001b[0m\u001b[0;34m.\u001b[0m\u001b[0mmount\u001b[0m\u001b[0;34m(\u001b[0m\u001b[0;34m'/content/drive'\u001b[0m\u001b[0;34m)\u001b[0m\u001b[0;34m\u001b[0m\u001b[0;34m\u001b[0m\u001b[0m\n",
      "\u001b[0;31mModuleNotFoundError\u001b[0m: No module named 'google'"
     ]
    }
   ],
   "source": [
    "from google.colab import drive\n",
    "drive.mount('/content/drive')"
   ]
  },
  {
   "cell_type": "code",
   "execution_count": 3,
   "metadata": {
    "id": "s66NKJ8Sf0wu"
   },
   "outputs": [],
   "source": [
    "import pandas as pd\n",
    "import numpy as np\n",
    "import dask.dataframe as dd\n",
    "from datetime import datetime\n",
    "import matplotlib.pyplot as plt\n",
    "from matplotlib import figure\n",
    "import matplotlib.dates as mdates"
   ]
  },
  {
   "cell_type": "markdown",
   "metadata": {
    "id": "06DV_BVZH-RD"
   },
   "source": [
    "# **1. Loading Data**\n",
    "\n"
   ]
  },
  {
   "cell_type": "markdown",
   "metadata": {
    "id": "890dVu2MT-eg"
   },
   "source": [
    "Here are the paths to the data we use."
   ]
  },
  {
   "cell_type": "code",
   "execution_count": null,
   "metadata": {
    "id": "sI4zpQIZF20E"
   },
   "outputs": [],
   "source": [
    "PATH_ROOT = '/content/drive/MyDrive/EPFL/ADA'\n",
    "PATH_PARQUET = PATH_ROOT + '/Project datasets'\n",
    "PATH_QUOTEBANK = PATH_ROOT + '/Quotebank'\n",
    "PATH_TO_QUOTES = PATH_QUOTEBANK + '/quotes-{year}.json.bz2'"
   ]
  },
  {
   "cell_type": "markdown",
   "metadata": {
    "id": "aKKxFdgXVGoS"
   },
   "source": [
    "##1. Loading wikidata labels"
   ]
  },
  {
   "cell_type": "markdown",
   "metadata": {
    "id": "8_ZAgdkDSwSB"
   },
   "source": [
    "Wiki quotations map the ID to their label. In that way, we know what the QID's mean."
   ]
  },
  {
   "cell_type": "code",
   "execution_count": null,
   "metadata": {
    "id": "tBvxOakLHYib"
   },
   "outputs": [],
   "source": [
    "wiki_quotation = pd.read_csv(PATH_PARQUET + '/wikidata_labels_descriptions_quotebank.csv.bz2', compression='bz2', index_col='QID')"
   ]
  },
  {
   "cell_type": "markdown",
   "metadata": {
    "id": "q6jsJpkRWQ9Y"
   },
   "source": [
    "We have a look at what it looks like:\n",
    "\n"
   ]
  },
  {
   "cell_type": "code",
   "execution_count": null,
   "metadata": {
    "colab": {
     "base_uri": "https://localhost:8080/"
    },
    "id": "-daTUeNqWXYD",
    "outputId": "04a40907-5a89-4e06-e122-d83c8517307b"
   },
   "outputs": [
    {
     "name": "stdout",
     "output_type": "stream",
     "text": [
      "<class 'pandas.core.frame.DataFrame'>\n",
      "Index: 36969 entries, Q31 to Q106376887\n",
      "Data columns (total 2 columns):\n",
      " #   Column       Non-Null Count  Dtype \n",
      "---  ------       --------------  ----- \n",
      " 0   Label        32951 non-null  object\n",
      " 1   Description  24542 non-null  object\n",
      "dtypes: object(2)\n",
      "memory usage: 866.5+ KB\n"
     ]
    }
   ],
   "source": [
    "wiki_quotation.info()"
   ]
  },
  {
   "cell_type": "code",
   "execution_count": null,
   "metadata": {
    "colab": {
     "base_uri": "https://localhost:8080/",
     "height": 235
    },
    "id": "6XC5zX4NWLS9",
    "outputId": "4ff84b97-02e1-4acd-ce41-6a0ae66cfd41"
   },
   "outputs": [
    {
     "data": {
      "text/html": [
       "<div>\n",
       "<style scoped>\n",
       "    .dataframe tbody tr th:only-of-type {\n",
       "        vertical-align: middle;\n",
       "    }\n",
       "\n",
       "    .dataframe tbody tr th {\n",
       "        vertical-align: top;\n",
       "    }\n",
       "\n",
       "    .dataframe thead th {\n",
       "        text-align: right;\n",
       "    }\n",
       "</style>\n",
       "<table border=\"1\" class=\"dataframe\">\n",
       "  <thead>\n",
       "    <tr style=\"text-align: right;\">\n",
       "      <th></th>\n",
       "      <th>Label</th>\n",
       "      <th>Description</th>\n",
       "    </tr>\n",
       "    <tr>\n",
       "      <th>QID</th>\n",
       "      <th></th>\n",
       "      <th></th>\n",
       "    </tr>\n",
       "  </thead>\n",
       "  <tbody>\n",
       "    <tr>\n",
       "      <th>Q31</th>\n",
       "      <td>Belgium</td>\n",
       "      <td>country in western Europe</td>\n",
       "    </tr>\n",
       "    <tr>\n",
       "      <th>Q45</th>\n",
       "      <td>Portugal</td>\n",
       "      <td>country in southwestern Europe</td>\n",
       "    </tr>\n",
       "    <tr>\n",
       "      <th>Q75</th>\n",
       "      <td>Internet</td>\n",
       "      <td>global system of connected computer networks</td>\n",
       "    </tr>\n",
       "    <tr>\n",
       "      <th>Q148</th>\n",
       "      <td>People's Republic of China</td>\n",
       "      <td>sovereign state in East Asia</td>\n",
       "    </tr>\n",
       "    <tr>\n",
       "      <th>Q155</th>\n",
       "      <td>Brazil</td>\n",
       "      <td>country in South America</td>\n",
       "    </tr>\n",
       "  </tbody>\n",
       "</table>\n",
       "</div>"
      ],
      "text/plain": [
       "                           Label                                   Description\n",
       "QID                                                                           \n",
       "Q31                      Belgium                     country in western Europe\n",
       "Q45                     Portugal                country in southwestern Europe\n",
       "Q75                     Internet  global system of connected computer networks\n",
       "Q148  People's Republic of China                  sovereign state in East Asia\n",
       "Q155                      Brazil                      country in South America"
      ]
     },
     "execution_count": 5,
     "metadata": {},
     "output_type": "execute_result"
    }
   ],
   "source": [
    "wiki_quotation.head()"
   ]
  },
  {
   "cell_type": "markdown",
   "metadata": {
    "id": "fXmCtFLyWLjc"
   },
   "source": [
    "##2. Loading speakers dataset"
   ]
  },
  {
   "cell_type": "markdown",
   "metadata": {
    "id": "ngcjNt4HS7SA"
   },
   "source": [
    "We load the dataframe of the list of the speakers."
   ]
  },
  {
   "cell_type": "code",
   "execution_count": null,
   "metadata": {
    "id": "gPsvlr_ZHZWE"
   },
   "outputs": [],
   "source": [
    "df_speakers = pd.read_parquet(PATH_PARQUET + '/speaker_attributes.parquet')\n",
    "df_speakers.set_index(keys='id', inplace=True)"
   ]
  },
  {
   "cell_type": "markdown",
   "metadata": {
    "id": "YX2XWKW1UkyW"
   },
   "source": [
    "We have a look at what it looks like:"
   ]
  },
  {
   "cell_type": "code",
   "execution_count": null,
   "metadata": {
    "colab": {
     "base_uri": "https://localhost:8080/"
    },
    "id": "5eALVUdAgesn",
    "outputId": "6a099076-7b16-4bcd-80c7-feaf1bc2fa78"
   },
   "outputs": [
    {
     "name": "stdout",
     "output_type": "stream",
     "text": [
      "<class 'pandas.core.frame.DataFrame'>\n",
      "Index: 9055981 entries, Q23 to Q106406643\n",
      "Data columns (total 14 columns):\n",
      " #   Column              Dtype \n",
      "---  ------              ----- \n",
      " 0   aliases             object\n",
      " 1   date_of_birth       object\n",
      " 2   nationality         object\n",
      " 3   gender              object\n",
      " 4   lastrevid           int64 \n",
      " 5   ethnic_group        object\n",
      " 6   US_congress_bio_ID  object\n",
      " 7   occupation          object\n",
      " 8   party               object\n",
      " 9   academic_degree     object\n",
      " 10  label               object\n",
      " 11  candidacy           object\n",
      " 12  type                object\n",
      " 13  religion            object\n",
      "dtypes: int64(1), object(13)\n",
      "memory usage: 1.0+ GB\n"
     ]
    }
   ],
   "source": [
    "df_speakers.info()"
   ]
  },
  {
   "cell_type": "code",
   "execution_count": null,
   "metadata": {
    "colab": {
     "base_uri": "https://localhost:8080/",
     "height": 354
    },
    "id": "GPGXFnCAIjah",
    "outputId": "f54b180f-98e7-46fc-fb44-f08b47fcdd9a"
   },
   "outputs": [
    {
     "data": {
      "text/html": [
       "<div>\n",
       "<style scoped>\n",
       "    .dataframe tbody tr th:only-of-type {\n",
       "        vertical-align: middle;\n",
       "    }\n",
       "\n",
       "    .dataframe tbody tr th {\n",
       "        vertical-align: top;\n",
       "    }\n",
       "\n",
       "    .dataframe thead th {\n",
       "        text-align: right;\n",
       "    }\n",
       "</style>\n",
       "<table border=\"1\" class=\"dataframe\">\n",
       "  <thead>\n",
       "    <tr style=\"text-align: right;\">\n",
       "      <th></th>\n",
       "      <th>aliases</th>\n",
       "      <th>date_of_birth</th>\n",
       "      <th>nationality</th>\n",
       "      <th>gender</th>\n",
       "      <th>lastrevid</th>\n",
       "      <th>ethnic_group</th>\n",
       "      <th>US_congress_bio_ID</th>\n",
       "      <th>occupation</th>\n",
       "      <th>party</th>\n",
       "      <th>academic_degree</th>\n",
       "      <th>label</th>\n",
       "      <th>candidacy</th>\n",
       "      <th>type</th>\n",
       "      <th>religion</th>\n",
       "    </tr>\n",
       "    <tr>\n",
       "      <th>id</th>\n",
       "      <th></th>\n",
       "      <th></th>\n",
       "      <th></th>\n",
       "      <th></th>\n",
       "      <th></th>\n",
       "      <th></th>\n",
       "      <th></th>\n",
       "      <th></th>\n",
       "      <th></th>\n",
       "      <th></th>\n",
       "      <th></th>\n",
       "      <th></th>\n",
       "      <th></th>\n",
       "      <th></th>\n",
       "    </tr>\n",
       "  </thead>\n",
       "  <tbody>\n",
       "    <tr>\n",
       "      <th>Q23</th>\n",
       "      <td>[Washington, President Washington, G. Washingt...</td>\n",
       "      <td>[+1732-02-22T00:00:00Z]</td>\n",
       "      <td>[Q161885, Q30]</td>\n",
       "      <td>[Q6581097]</td>\n",
       "      <td>1395141751</td>\n",
       "      <td>None</td>\n",
       "      <td>W000178</td>\n",
       "      <td>[Q82955, Q189290, Q131512, Q1734662, Q294126, ...</td>\n",
       "      <td>[Q327591]</td>\n",
       "      <td>None</td>\n",
       "      <td>George Washington</td>\n",
       "      <td>[Q698073, Q697949]</td>\n",
       "      <td>item</td>\n",
       "      <td>[Q682443]</td>\n",
       "    </tr>\n",
       "    <tr>\n",
       "      <th>Q42</th>\n",
       "      <td>[Douglas Noel Adams, Douglas Noël Adams, Dougl...</td>\n",
       "      <td>[+1952-03-11T00:00:00Z]</td>\n",
       "      <td>[Q145]</td>\n",
       "      <td>[Q6581097]</td>\n",
       "      <td>1395737157</td>\n",
       "      <td>[Q7994501]</td>\n",
       "      <td>None</td>\n",
       "      <td>[Q214917, Q28389, Q6625963, Q4853732, Q1884422...</td>\n",
       "      <td>None</td>\n",
       "      <td>None</td>\n",
       "      <td>Douglas Adams</td>\n",
       "      <td>None</td>\n",
       "      <td>item</td>\n",
       "      <td>None</td>\n",
       "    </tr>\n",
       "    <tr>\n",
       "      <th>Q1868</th>\n",
       "      <td>[Paul Marie Ghislain Otlet, Paul Marie Otlet]</td>\n",
       "      <td>[+1868-08-23T00:00:00Z]</td>\n",
       "      <td>[Q31]</td>\n",
       "      <td>[Q6581097]</td>\n",
       "      <td>1380367296</td>\n",
       "      <td>None</td>\n",
       "      <td>None</td>\n",
       "      <td>[Q36180, Q40348, Q182436, Q1265807, Q205375, Q...</td>\n",
       "      <td>None</td>\n",
       "      <td>None</td>\n",
       "      <td>Paul Otlet</td>\n",
       "      <td>None</td>\n",
       "      <td>item</td>\n",
       "      <td>None</td>\n",
       "    </tr>\n",
       "    <tr>\n",
       "      <th>Q207</th>\n",
       "      <td>[George Walker Bush, Bush Jr., Dubya, GWB, Bus...</td>\n",
       "      <td>[+1946-07-06T00:00:00Z]</td>\n",
       "      <td>[Q30]</td>\n",
       "      <td>[Q6581097]</td>\n",
       "      <td>1395142029</td>\n",
       "      <td>None</td>\n",
       "      <td>None</td>\n",
       "      <td>[Q82955, Q15982858, Q18814623, Q1028181, Q1408...</td>\n",
       "      <td>[Q29468]</td>\n",
       "      <td>None</td>\n",
       "      <td>George W. Bush</td>\n",
       "      <td>[Q327959, Q464075, Q3586276, Q4450587]</td>\n",
       "      <td>item</td>\n",
       "      <td>[Q329646, Q682443, Q33203]</td>\n",
       "    </tr>\n",
       "    <tr>\n",
       "      <th>Q297</th>\n",
       "      <td>[Velázquez, Diego Rodríguez de Silva y Velázqu...</td>\n",
       "      <td>[+1599-06-06T00:00:00Z]</td>\n",
       "      <td>[Q29]</td>\n",
       "      <td>[Q6581097]</td>\n",
       "      <td>1391704596</td>\n",
       "      <td>None</td>\n",
       "      <td>None</td>\n",
       "      <td>[Q1028181]</td>\n",
       "      <td>None</td>\n",
       "      <td>None</td>\n",
       "      <td>Diego Velázquez</td>\n",
       "      <td>None</td>\n",
       "      <td>item</td>\n",
       "      <td>None</td>\n",
       "    </tr>\n",
       "  </tbody>\n",
       "</table>\n",
       "</div>"
      ],
      "text/plain": [
       "                                                 aliases  ...                    religion\n",
       "id                                                        ...                            \n",
       "Q23    [Washington, President Washington, G. Washingt...  ...                   [Q682443]\n",
       "Q42    [Douglas Noel Adams, Douglas Noël Adams, Dougl...  ...                        None\n",
       "Q1868      [Paul Marie Ghislain Otlet, Paul Marie Otlet]  ...                        None\n",
       "Q207   [George Walker Bush, Bush Jr., Dubya, GWB, Bus...  ...  [Q329646, Q682443, Q33203]\n",
       "Q297   [Velázquez, Diego Rodríguez de Silva y Velázqu...  ...                        None\n",
       "\n",
       "[5 rows x 14 columns]"
      ]
     },
     "execution_count": 7,
     "metadata": {},
     "output_type": "execute_result"
    }
   ],
   "source": [
    "df_speakers.head()"
   ]
  },
  {
   "cell_type": "markdown",
   "metadata": {
    "id": "hfcpWLEuOn6z"
   },
   "source": [
    "# **2. A quick data analysis**"
   ]
  },
  {
   "cell_type": "markdown",
   "metadata": {
    "id": "bsX74l59_aRC"
   },
   "source": [
    "We first start by getting the overall number of speakers that are here in our database."
   ]
  },
  {
   "cell_type": "code",
   "execution_count": null,
   "metadata": {
    "colab": {
     "base_uri": "https://localhost:8080/"
    },
    "id": "5TvCp_mdggpf",
    "outputId": "dee7c482-a4fa-4949-89d7-17421e0b8704"
   },
   "outputs": [
    {
     "name": "stdout",
     "output_type": "stream",
     "text": [
      "There are 9055981 speakers.\n"
     ]
    }
   ],
   "source": [
    "nb_speakers = len(df_speakers.index)\n",
    "print(\"There are\", nb_speakers, \"speakers.\")"
   ]
  },
  {
   "cell_type": "markdown",
   "metadata": {
    "id": "4egwvaou_1uQ"
   },
   "source": [
    "##1. Nationality analysis"
   ]
  },
  {
   "cell_type": "markdown",
   "metadata": {
    "id": "x_dFgBQZAKhb"
   },
   "source": [
    "We decided to only consider the persons who have at most four nationalities in the same time as the number of five-nationality persons is really low:"
   ]
  },
  {
   "cell_type": "code",
   "execution_count": null,
   "metadata": {
    "colab": {
     "base_uri": "https://localhost:8080/"
    },
    "id": "EfaYc8S5AWoa",
    "outputId": "dea6ba7d-e38e-44ab-a449-1db7abc8ce82"
   },
   "outputs": [
    {
     "name": "stdout",
     "output_type": "stream",
     "text": [
      "There are 1049 five nationality speakers.\n"
     ]
    }
   ],
   "source": [
    "df_nat5 = pd.DataFrame()\n",
    "df_nat5['nat']  = df_speakers['nationality'].copy()\n",
    "df_nat5['nat'] = df_nat5['nat'].apply(lambda nat5: nat5[4] if nat5 is not None and len(nat5) >= 5 else None)\n",
    "nb_five_nat_speakers = df_nat5['nat'].value_counts().sum()\n",
    "print(\"There are\", nb_five_nat_speakers, \"five-nationality speakers.\")"
   ]
  },
  {
   "cell_type": "markdown",
   "metadata": {
    "id": "naiaNC4WB1h1"
   },
   "source": [
    "To get the different nationalities, we decided to create a new dataframe and split the rows with several nationalities into different columns."
   ]
  },
  {
   "cell_type": "code",
   "execution_count": null,
   "metadata": {
    "colab": {
     "base_uri": "https://localhost:8080/",
     "height": 235
    },
    "id": "LZ10VDeSZEsk",
    "outputId": "b7bcdc4e-bcd3-403b-bb54-5b273841589f"
   },
   "outputs": [
    {
     "data": {
      "text/html": [
       "<div>\n",
       "<style scoped>\n",
       "    .dataframe tbody tr th:only-of-type {\n",
       "        vertical-align: middle;\n",
       "    }\n",
       "\n",
       "    .dataframe tbody tr th {\n",
       "        vertical-align: top;\n",
       "    }\n",
       "\n",
       "    .dataframe thead th {\n",
       "        text-align: right;\n",
       "    }\n",
       "</style>\n",
       "<table border=\"1\" class=\"dataframe\">\n",
       "  <thead>\n",
       "    <tr style=\"text-align: right;\">\n",
       "      <th></th>\n",
       "      <th>nat1</th>\n",
       "      <th>nat2</th>\n",
       "      <th>nat3</th>\n",
       "      <th>nat4</th>\n",
       "    </tr>\n",
       "    <tr>\n",
       "      <th>id</th>\n",
       "      <th></th>\n",
       "      <th></th>\n",
       "      <th></th>\n",
       "      <th></th>\n",
       "    </tr>\n",
       "  </thead>\n",
       "  <tbody>\n",
       "    <tr>\n",
       "      <th>Q23</th>\n",
       "      <td>Q161885</td>\n",
       "      <td>Q30</td>\n",
       "      <td>None</td>\n",
       "      <td>None</td>\n",
       "    </tr>\n",
       "    <tr>\n",
       "      <th>Q42</th>\n",
       "      <td>Q145</td>\n",
       "      <td>None</td>\n",
       "      <td>None</td>\n",
       "      <td>None</td>\n",
       "    </tr>\n",
       "    <tr>\n",
       "      <th>Q1868</th>\n",
       "      <td>Q31</td>\n",
       "      <td>None</td>\n",
       "      <td>None</td>\n",
       "      <td>None</td>\n",
       "    </tr>\n",
       "    <tr>\n",
       "      <th>Q207</th>\n",
       "      <td>Q30</td>\n",
       "      <td>None</td>\n",
       "      <td>None</td>\n",
       "      <td>None</td>\n",
       "    </tr>\n",
       "    <tr>\n",
       "      <th>Q297</th>\n",
       "      <td>Q29</td>\n",
       "      <td>None</td>\n",
       "      <td>None</td>\n",
       "      <td>None</td>\n",
       "    </tr>\n",
       "  </tbody>\n",
       "</table>\n",
       "</div>"
      ],
      "text/plain": [
       "          nat1  nat2  nat3  nat4\n",
       "id                              \n",
       "Q23    Q161885   Q30  None  None\n",
       "Q42       Q145  None  None  None\n",
       "Q1868      Q31  None  None  None\n",
       "Q207       Q30  None  None  None\n",
       "Q297       Q29  None  None  None"
      ]
     },
     "execution_count": 13,
     "metadata": {},
     "output_type": "execute_result"
    }
   ],
   "source": [
    "df_nationality = pd.DataFrame()\n",
    "\n",
    "df_nationality['nat'] = df_speakers['nationality'].copy()\n",
    "df_nationality['nat1'] = df_speakers['nationality'].copy()\n",
    "df_nationality['nat2'] = df_speakers['nationality'].copy()\n",
    "df_nationality['nat3'] = df_speakers['nationality'].copy()\n",
    "df_nationality['nat4'] = df_speakers['nationality'].copy()\n",
    "\n",
    "df_nationality['nat1'] = df_nationality['nat1'].apply(lambda nat1: nat1[0] if nat1 is not None and len(nat1) >= 1 else None)\n",
    "df_nationality['nat2'] = df_nationality['nat2'].apply(lambda nat2: nat2[1] if nat2 is not None and len(nat2) >= 2 else None)\n",
    "df_nationality['nat3'] = df_nationality['nat3'].apply(lambda nat3: nat3[2] if nat3 is not None and len(nat3) >= 3 else None)\n",
    "df_nationality['nat4'] = df_nationality['nat4'].apply(lambda nat4: nat4[3] if nat4 is not None and len(nat4) >= 4 else None)\n",
    "\n",
    "df_nationality.drop(\"nat\", axis=1, inplace=True)\n",
    "\n",
    "df_nationality.head()"
   ]
  },
  {
   "cell_type": "markdown",
   "metadata": {
    "id": "1_mNlQ5bCLJq"
   },
   "source": [
    "The number of speakers for whom we know their nationality is the following:"
   ]
  },
  {
   "cell_type": "code",
   "execution_count": null,
   "metadata": {
    "colab": {
     "base_uri": "https://localhost:8080/"
    },
    "id": "gNU_mMuqCLYy",
    "outputId": "6f9feadf-765d-4098-a712-0b09ad4c987c"
   },
   "outputs": [
    {
     "name": "stdout",
     "output_type": "stream",
     "text": [
      "There are only 3715852 speakers for whom we know their nationality which means 41.03% of all the speakers.\n"
     ]
    }
   ],
   "source": [
    "nb_speakers_with_nat = df_nationality['nat1'].value_counts().sum()\n",
    "proportion = nb_speakers_with_nat / nb_speakers\n",
    "print(\"There are only\", nb_speakers_with_nat, \"speakers for whom we know their nationality which means {:.2f}% of all the speakers.\".format(proportion*100))"
   ]
  },
  {
   "cell_type": "code",
   "execution_count": null,
   "metadata": {
    "id": "hdtZP0n21UhW"
   },
   "outputs": [],
   "source": [
    "df_nationality_melt = df_nationality.melt(var_name='columns', value_name='index')\n",
    "list_nationality = df_nationality_melt['index'].value_counts()\n",
    "\n",
    "nationality_1 = list_nationality.index.tolist()[0]\n",
    "nationality_2 = list_nationality.index.tolist()[1]\n",
    "nationality_3 = list_nationality.index.tolist()[2]\n",
    "nationality_4 = list_nationality.index.tolist()[3]\n",
    "nationality_5 = list_nationality.index.tolist()[4]\n",
    "nationality_6 = list_nationality.index.tolist()[5]\n",
    "nationality_7 = list_nationality.index.tolist()[6]\n",
    "nationality_8 = list_nationality.index.tolist()[7]\n",
    "nationality_9 = list_nationality.index.tolist()[8]\n",
    "nationality_10 = list_nationality.index.tolist()[9]\n",
    "\n",
    "nationality_1 = wiki_quotation.filter(regex='{}$'.format(nationality_1), axis = 0)['Label'][0]\n",
    "nationality_2 = wiki_quotation.filter(regex='{}$'.format(nationality_2), axis = 0)['Label'][0]\n",
    "nationality_3 = wiki_quotation.filter(regex='{}$'.format(nationality_3), axis = 0)['Label'][0]\n",
    "nationality_4 = wiki_quotation.filter(regex='{}$'.format(nationality_4), axis = 0)['Label'][0]\n",
    "nationality_5 = wiki_quotation.filter(regex='{}$'.format(nationality_5), axis = 0)['Label'][0]\n",
    "nationality_6 = wiki_quotation.filter(regex='{}$'.format(nationality_6), axis = 0)['Label'][0]\n",
    "nationality_7 = wiki_quotation.filter(regex='{}$'.format(nationality_7), axis = 0)['Label'][0]\n",
    "nationality_8 = wiki_quotation.filter(regex='{}$'.format(nationality_8), axis = 0)['Label'][0]\n",
    "nationality_9 = wiki_quotation.filter(regex='{}$'.format(nationality_9), axis = 0)['Label'][0]\n",
    "nationality_10 = wiki_quotation.filter(regex='{}$'.format(nationality_10), axis = 0)['Label'][0]"
   ]
  },
  {
   "cell_type": "markdown",
   "metadata": {
    "id": "naArm2oYGWeh"
   },
   "source": [
    "We get the number of speakers with nationalities (not considering five-nationality speakers) i.e for a four-nationality speaker, it counts for four nationalities."
   ]
  },
  {
   "cell_type": "code",
   "execution_count": null,
   "metadata": {
    "colab": {
     "base_uri": "https://localhost:8080/"
    },
    "id": "Z7bYZcWt5yT2",
    "outputId": "67d7bda6-2651-44f1-bb13-93cde0efd368"
   },
   "outputs": [
    {
     "name": "stdout",
     "output_type": "stream",
     "text": [
      "There are 4017393 speakers with nationalities.\n"
     ]
    }
   ],
   "source": [
    "nb_nationality = df_nationality_melt['index'].value_counts().sum()\n",
    "print(\"There are\", nb_nationality, \"speakers with nationalities.\")"
   ]
  },
  {
   "cell_type": "code",
   "execution_count": null,
   "metadata": {
    "colab": {
     "base_uri": "https://localhost:8080/"
    },
    "id": "Jx5rcOXi5fj8",
    "outputId": "db48f8a7-051b-44f8-e44a-fae064ec0563"
   },
   "outputs": [
    {
     "name": "stdout",
     "output_type": "stream",
     "text": [
      "The proportion of speakers from the United States of America overall is 10.929% with 439076 persons.\n",
      "The proportion of speakers from France overall is 6.595% with 264943 persons.\n",
      "The proportion of speakers from Germany overall is 6.344% with 254865 persons.\n",
      "The proportion of speakers from Japan overall is 4.435% with 178169 persons.\n",
      "The proportion of speakers from United Kingdom overall is 4.149% with 166679 persons.\n",
      "The proportion of speakers from Spain overall is 3.173% with 127471 persons.\n",
      "The proportion of speakers from Ming dynasty overall is 3.137% with 126025 persons.\n",
      "The proportion of speakers from Soviet Union overall is 2.462% with 98925 persons.\n",
      "The proportion of speakers from Italy overall is 2.448% with 98345 persons.\n",
      "The proportion of speakers from Canada overall is 2.075% with 83370 persons.\n"
     ]
    }
   ],
   "source": [
    "nb_nationality_1 = list_nationality[0]\n",
    "nb_nationality_2 = list_nationality[1]\n",
    "nb_nationality_3 = list_nationality[2]\n",
    "nb_nationality_4 = list_nationality[3]\n",
    "nb_nationality_5 = list_nationality[4]\n",
    "nb_nationality_6 = list_nationality[5]\n",
    "nb_nationality_7 = list_nationality[6]\n",
    "nb_nationality_8 = list_nationality[7]\n",
    "nb_nationality_9 = list_nationality[8]\n",
    "nb_nationality_10 = list_nationality[9]\n",
    "\n",
    "proportion_nationality_1 = nb_nationality_1/nb_nationality\n",
    "proportion_nationality_2 = nb_nationality_2/nb_nationality\n",
    "proportion_nationality_3 = nb_nationality_3/nb_nationality\n",
    "proportion_nationality_4 = nb_nationality_4/nb_nationality\n",
    "proportion_nationality_5 = nb_nationality_5/nb_nationality\n",
    "proportion_nationality_6 = nb_nationality_6/nb_nationality\n",
    "proportion_nationality_7 = nb_nationality_7/nb_nationality\n",
    "proportion_nationality_8 = nb_nationality_8/nb_nationality\n",
    "proportion_nationality_9 = nb_nationality_9/nb_nationality\n",
    "proportion_nationality_10 = nb_nationality_10/nb_nationality\n",
    "\n",
    "\n",
    "print(\"The proportion of speakers from the {} overall is {:.3f}% with {} persons.\".format(nationality_1, proportion_nationality_1*100, nb_nationality_1))\n",
    "print(\"The proportion of speakers from {} overall is {:.3f}% with {} persons.\".format(nationality_2, proportion_nationality_2*100, nb_nationality_2))\n",
    "print(\"The proportion of speakers from {} overall is {:.3f}% with {} persons.\".format(nationality_3, proportion_nationality_3*100, nb_nationality_3))\n",
    "print(\"The proportion of speakers from {} overall is {:.3f}% with {} persons.\".format(nationality_4, proportion_nationality_4*100, nb_nationality_4))\n",
    "print(\"The proportion of speakers from {} overall is {:.3f}% with {} persons.\".format(nationality_5, proportion_nationality_5*100, nb_nationality_5))\n",
    "print(\"The proportion of speakers from {} overall is {:.3f}% with {} persons.\".format(nationality_6, proportion_nationality_6*100, nb_nationality_6))\n",
    "print(\"The proportion of speakers from {} overall is {:.3f}% with {} persons.\".format(nationality_7, proportion_nationality_7*100, nb_nationality_7))\n",
    "print(\"The proportion of speakers from {} overall is {:.3f}% with {} persons.\".format(nationality_8, proportion_nationality_8*100, nb_nationality_8))\n",
    "print(\"The proportion of speakers from {} overall is {:.3f}% with {} persons.\".format(nationality_9, proportion_nationality_9*100, nb_nationality_9))\n",
    "print(\"The proportion of speakers from {} overall is {:.3f}% with {} persons.\".format(nationality_10, proportion_nationality_10*100, nb_nationality_10))"
   ]
  },
  {
   "cell_type": "markdown",
   "metadata": {
    "id": "8pM-fDr3YAgE"
   },
   "source": [
    "We plot the distribution of the nationalities"
   ]
  },
  {
   "cell_type": "code",
   "execution_count": 84,
   "metadata": {
    "colab": {
     "base_uri": "https://localhost:8080/",
     "height": 264
    },
    "id": "RzGnuQ0nU8wq",
    "outputId": "e42652f6-3fc4-4eec-a02a-c7e942632726"
   },
   "outputs": [
    {
     "data": {
      "image/png": "[encoded data removed]",
      "text/plain": [
       "<Figure size 432x288 with 1 Axes>"
      ]
     },
     "metadata": {},
     "output_type": "display_data"
    }
   ],
   "source": [
    "total = proportion_nationality_1+proportion_nationality_2+ proportion_nationality_3 + proportion_nationality_4+proportion_nationality_5+proportion_nationality_6+proportion_nationality_7+proportion_nationality_8+proportion_nationality_9+proportion_nationality_10\n",
    "rest = 1-total\n",
    "# Pie chart, where the slices will be ordered and plotted counter-clockwise:\n",
    "labels = nationality_1, nationality_2,nationality_3,nationality_4,nationality_5,nationality_6,nationality_7,nationality_8,nationality_9,nationality_10, 'Other'\n",
    "sizes = [proportion_nationality_1, proportion_nationality_2, proportion_nationality_3, proportion_nationality_4, proportion_nationality_5, proportion_nationality_6, proportion_nationality_7, proportion_nationality_8, proportion_nationality_9, proportion_nationality_10, rest]\n",
    "colors=['b', 'g', 'r', 'c', 'm', 'y', 'w', 'purple', '#ee966b', '#4a274f', 'c']\n",
    "fig1, ax1 = plt.subplots()\n",
    "ax1.pie(sizes, labels=labels, autopct='%1.1f%%',\n",
    "        shadow=True, startangle=90, colors=colors)\n",
    "ax1.axis('equal')  # Equal aspect ratio ensures that pie is drawn as a circle.\n",
    "plt.title(\"Distribution of the speakers' nationalities\")\n",
    "\n",
    "plt.show()"
   ]
  },
  {
   "cell_type": "markdown",
   "metadata": {
    "id": "Lc9KIOHWYmLU"
   },
   "source": [
    "## 2. Gender analysis"
   ]
  },
  {
   "cell_type": "markdown",
   "metadata": {
    "id": "3w7a90TCHeSS"
   },
   "source": [
    "We decided to consider only the 5 most frequent genders in the database."
   ]
  },
  {
   "cell_type": "code",
   "execution_count": null,
   "metadata": {
    "colab": {
     "base_uri": "https://localhost:8080/"
    },
    "id": "UHvYrnc2LUeJ",
    "outputId": "f5ab3661-96a3-488f-f6f7-23c5f4936388"
   },
   "outputs": [
    {
     "name": "stdout",
     "output_type": "stream",
     "text": [
      "The proportion of male speakers overall is 59.833% with 5418464 persons.\n",
      "The proportion of female speakers overall is 18.597% with 1684170 persons.\n",
      "The proportion of transgender female speakers overall is 0.010% with 887 persons.\n",
      "The proportion of non-binary speakers overall is 0.003% with 307 persons.\n",
      "The proportion of transgender male speakers overall is 0.003% with 228 persons.\n"
     ]
    }
   ],
   "source": [
    "list_of_genders = df_speakers['gender'].value_counts()\n",
    "gender_1 = list_of_genders.index.tolist()[0][0]\n",
    "gender_2 = list_of_genders.index.tolist()[1][0]\n",
    "gender_3 = list_of_genders.index.tolist()[2][0]\n",
    "gender_4 = list_of_genders.index.tolist()[3][0]\n",
    "gender_5 = list_of_genders.index.tolist()[4][0]\n",
    "gender_1 = wiki_quotation.filter(regex='{}$'.format(gender_1), axis = 0)['Label'][0]\n",
    "gender_2 = wiki_quotation.filter(regex='{}$'.format(gender_2), axis = 0)['Label'][0]\n",
    "gender_3 = wiki_quotation.filter(regex='{}$'.format(gender_3), axis = 0)['Label'][0]\n",
    "gender_4 = wiki_quotation.filter(regex='{}$'.format(gender_4), axis = 0)['Label'][0]\n",
    "gender_5 = wiki_quotation.filter(regex='{}$'.format(gender_5), axis = 0)['Label'][0]\n",
    "\n",
    "nb_gender_1 = list_of_genders[0]\n",
    "nb_gender_2 = list_of_genders[1]\n",
    "nb_gender_3 = list_of_genders[2]\n",
    "nb_gender_4 = list_of_genders[3]\n",
    "nb_gender_5 = list_of_genders[4]\n",
    "\n",
    "proportion_gender_1 = nb_gender_1/nb_speakers\n",
    "proportion_gender_2 = nb_gender_2/nb_speakers\n",
    "proportion_gender_3 = nb_gender_3/nb_speakers\n",
    "proportion_gender_4 = nb_gender_4/nb_speakers\n",
    "proportion_gender_5 = nb_gender_5/nb_speakers\n",
    "\n",
    "print(\"The proportion of {} speakers overall is {:.3f}% with {} persons.\".format(gender_1, proportion_gender_1*100, nb_gender_1))\n",
    "print(\"The proportion of {} speakers overall is {:.3f}% with {} persons.\".format(gender_2, proportion_gender_2*100, nb_gender_2))\n",
    "print(\"The proportion of {} speakers overall is {:.3f}% with {} persons.\".format(gender_3, proportion_gender_3*100, nb_gender_3))\n",
    "print(\"The proportion of {} speakers overall is {:.3f}% with {} persons.\".format(gender_4, proportion_gender_4*100, nb_gender_4))\n",
    "print(\"The proportion of {} speakers overall is {:.3f}% with {} persons.\".format(gender_5, proportion_gender_5*100, nb_gender_5))"
   ]
  },
  {
   "cell_type": "markdown",
   "metadata": {
    "id": "hhu-4WVCZGoA"
   },
   "source": [
    "We plot the distribution of female and male speakers (we considered that the other genders are in the 'other' category as it is a really low percentage)."
   ]
  },
  {
   "cell_type": "code",
   "execution_count": 83,
   "metadata": {
    "colab": {
     "base_uri": "https://localhost:8080/",
     "height": 264
    },
    "id": "OXpcRoleYZaz",
    "outputId": "894e3214-72a4-417e-e89e-5fce15a9693a"
   },
   "outputs": [
    {
     "data": {
      "image/png": "[encoded data removed]",
      "text/plain": [
       "<Figure size 432x288 with 1 Axes>"
      ]
     },
     "metadata": {},
     "output_type": "display_data"
    }
   ],
   "source": [
    "total = proportion_gender_1+proportion_gender_2\n",
    "rest = 1-total\n",
    "# Pie chart, where the slices will be ordered and plotted counter-clockwise:\n",
    "labels = gender_1,gender_2,'Other'\n",
    "sizes = [proportion_gender_1, proportion_gender_2, rest]\n",
    "colors=['c', 'g', 'y']\n",
    "fig1, ax1 = plt.subplots()\n",
    "ax1.pie(sizes, labels=labels, autopct='%1.1f%%',\n",
    "        shadow=True, startangle=90, colors=colors)\n",
    "ax1.axis('equal')  # Equal aspect ratio ensures that pie is drawn as a circle.\n",
    "plt.title(\"Distribution of the speakers' genders\")\n",
    "\n",
    "plt.show()"
   ]
  },
  {
   "cell_type": "markdown",
   "metadata": {
    "id": "49f1LYqwIy7g"
   },
   "source": [
    "##3. Ethnic group analysis"
   ]
  },
  {
   "cell_type": "markdown",
   "metadata": {
    "id": "FE2oa74SJNFh"
   },
   "source": [
    "We decided to only consider the persons who belong to at most two different ethnic groups in the same time as the number of speakers who belong to three or more ethnic-group is 177."
   ]
  },
  {
   "cell_type": "code",
   "execution_count": null,
   "metadata": {
    "colab": {
     "base_uri": "https://localhost:8080/"
    },
    "id": "VBESBVVXIyQ7",
    "outputId": "5cc050bc-062d-4130-b34c-188b2e274436"
   },
   "outputs": [
    {
     "name": "stdout",
     "output_type": "stream",
     "text": [
      "There are 177 three-ethnic group belonging speakers.\n"
     ]
    }
   ],
   "source": [
    "df_ethn3 = pd.DataFrame()\n",
    "df_ethn3['ethn']  = df_speakers['ethnic_group'].copy()\n",
    "df_ethn3['ethn'] = df_ethn3['ethn'].apply(lambda ethn3: ethn3[2] if ethn3 is not None and len(ethn3) >= 3 else None)\n",
    "nb_three_ethn_speakers = df_ethn3['ethn'].value_counts().sum()\n",
    "print(\"There are\", nb_three_ethn_speakers, \"three-ethnic group belonging speakers.\")"
   ]
  },
  {
   "cell_type": "markdown",
   "metadata": {
    "id": "F6B2CGn3Kq1Y"
   },
   "source": [
    "To get the different ethnic groups, we decided to create a new dataframe and split the rows with several ethnic-groups into different columns."
   ]
  },
  {
   "cell_type": "code",
   "execution_count": null,
   "metadata": {
    "colab": {
     "base_uri": "https://localhost:8080/",
     "height": 235
    },
    "id": "t0sTjnZAKndx",
    "outputId": "9e604f10-5c6d-4b8f-f481-6a3fb417596a"
   },
   "outputs": [
    {
     "data": {
      "text/html": [
       "<div>\n",
       "<style scoped>\n",
       "    .dataframe tbody tr th:only-of-type {\n",
       "        vertical-align: middle;\n",
       "    }\n",
       "\n",
       "    .dataframe tbody tr th {\n",
       "        vertical-align: top;\n",
       "    }\n",
       "\n",
       "    .dataframe thead th {\n",
       "        text-align: right;\n",
       "    }\n",
       "</style>\n",
       "<table border=\"1\" class=\"dataframe\">\n",
       "  <thead>\n",
       "    <tr style=\"text-align: right;\">\n",
       "      <th></th>\n",
       "      <th>ethnic1</th>\n",
       "      <th>ethnic2</th>\n",
       "    </tr>\n",
       "    <tr>\n",
       "      <th>id</th>\n",
       "      <th></th>\n",
       "      <th></th>\n",
       "    </tr>\n",
       "  </thead>\n",
       "  <tbody>\n",
       "    <tr>\n",
       "      <th>Q23</th>\n",
       "      <td>None</td>\n",
       "      <td>None</td>\n",
       "    </tr>\n",
       "    <tr>\n",
       "      <th>Q42</th>\n",
       "      <td>Q7994501</td>\n",
       "      <td>None</td>\n",
       "    </tr>\n",
       "    <tr>\n",
       "      <th>Q1868</th>\n",
       "      <td>None</td>\n",
       "      <td>None</td>\n",
       "    </tr>\n",
       "    <tr>\n",
       "      <th>Q207</th>\n",
       "      <td>None</td>\n",
       "      <td>None</td>\n",
       "    </tr>\n",
       "    <tr>\n",
       "      <th>Q297</th>\n",
       "      <td>None</td>\n",
       "      <td>None</td>\n",
       "    </tr>\n",
       "  </tbody>\n",
       "</table>\n",
       "</div>"
      ],
      "text/plain": [
       "        ethnic1 ethnic2\n",
       "id                     \n",
       "Q23        None    None\n",
       "Q42    Q7994501    None\n",
       "Q1868      None    None\n",
       "Q207       None    None\n",
       "Q297       None    None"
      ]
     },
     "execution_count": 51,
     "metadata": {},
     "output_type": "execute_result"
    }
   ],
   "source": [
    "df_ethnic = pd.DataFrame()\n",
    "\n",
    "df_ethnic['ethnic'] = df_speakers['ethnic_group'].copy()\n",
    "df_ethnic['ethnic1'] = df_speakers['ethnic_group'].copy()\n",
    "df_ethnic['ethnic2'] = df_speakers['ethnic_group'].copy()\n",
    "\n",
    "df_ethnic['ethnic1'] = df_ethnic['ethnic1'].apply(lambda ethnic1: ethnic1[0] if ethnic1 is not None and len(ethnic1) >= 1 else None)\n",
    "df_ethnic['ethnic2'] = df_ethnic['ethnic2'].apply(lambda ethnic2: ethnic2[1] if ethnic2 is not None and len(ethnic2) >= 2 else None)\n",
    "\n",
    "df_ethnic.drop(\"ethnic\", axis=1, inplace=True)\n",
    "\n",
    "df_ethnic.head()"
   ]
  },
  {
   "cell_type": "markdown",
   "metadata": {
    "id": "wKMJWpGyLo3u"
   },
   "source": [
    "The number of speakers for whom we know their ethnic group is the following:"
   ]
  },
  {
   "cell_type": "code",
   "execution_count": null,
   "metadata": {
    "colab": {
     "base_uri": "https://localhost:8080/"
    },
    "id": "8sY9_XKeLgHs",
    "outputId": "de51207d-66a7-4949-c446-c33852706a75"
   },
   "outputs": [
    {
     "name": "stdout",
     "output_type": "stream",
     "text": [
      "There are only 130385 speakers for whom we know their ethnic group which means 1.44% of all the speakers.\n"
     ]
    }
   ],
   "source": [
    "nb_speakers_with_ethn = df_ethnic['ethnic1'].value_counts().sum()\n",
    "proportion = nb_speakers_with_ethn / nb_speakers\n",
    "print(\"There are only\", nb_speakers_with_ethn, \"speakers for whom we know their ethnic group which means {:.2f}% of all the speakers.\".format(proportion*100))"
   ]
  },
  {
   "cell_type": "code",
   "execution_count": null,
   "metadata": {
    "id": "lmILP4SJMDss"
   },
   "outputs": [],
   "source": [
    "df_ethnic_melt = df_ethnic.melt(var_name='columns', value_name='index')\n",
    "list_ethnic = df_ethnic_melt['index'].value_counts()\n",
    "\n",
    "ethnicity_1 = list_ethnic.index.tolist()[0]\n",
    "ethnicity_2 = list_ethnic.index.tolist()[1]\n",
    "ethnicity_3 = list_ethnic.index.tolist()[2]\n",
    "ethnicity_4 = list_ethnic.index.tolist()[3]\n",
    "ethnicity_5 = list_ethnic.index.tolist()[4]\n",
    "ethnicity_6 = list_ethnic.index.tolist()[5]\n",
    "ethnicity_7 = list_ethnic.index.tolist()[6]\n",
    "ethnicity_8 = list_ethnic.index.tolist()[7]\n",
    "ethnicity_9 = list_ethnic.index.tolist()[8]\n",
    "ethnicity_10 = list_ethnic.index.tolist()[9]\n",
    "\n",
    "ethnicity_1 = wiki_quotation.filter(regex='{}$'.format(ethnicity_1), axis = 0)['Label'][0]\n",
    "ethnicity_2 = wiki_quotation.filter(regex='{}$'.format(ethnicity_2), axis = 0)['Label'][0]\n",
    "ethnicity_3 = wiki_quotation.filter(regex='{}$'.format(ethnicity_3), axis = 0)['Label'][0]\n",
    "ethnicity_4 = wiki_quotation.filter(regex='{}$'.format(ethnicity_4), axis = 0)['Label'][0]\n",
    "ethnicity_5 = wiki_quotation.filter(regex='{}$'.format(ethnicity_5), axis = 0)['Label'][0]\n",
    "ethnicity_6 = wiki_quotation.filter(regex='{}$'.format(ethnicity_6), axis = 0)['Label'][0]\n",
    "ethnicity_7 = wiki_quotation.filter(regex='{}$'.format(ethnicity_7), axis = 0)['Label'][0]\n",
    "ethnicity_8 = wiki_quotation.filter(regex='{}$'.format(ethnicity_8), axis = 0)['Label'][0]\n",
    "ethnicity_9 = wiki_quotation.filter(regex='{}$'.format(ethnicity_9), axis = 0)['Label'][0]\n",
    "ethnicity_10 = wiki_quotation.filter(regex='{}$'.format(ethnicity_10), axis = 0)['Label'][0]"
   ]
  },
  {
   "cell_type": "markdown",
   "metadata": {
    "id": "IzBlmolUM4mb"
   },
   "source": [
    "We get the number of speakers with ethnic group (not considering speakers who have more than 2 ethnic groups) i.e for a two ethnic group speaker, it counts for 2 ethnic groups. We can see that it is a really low proportion."
   ]
  },
  {
   "cell_type": "code",
   "execution_count": null,
   "metadata": {
    "colab": {
     "base_uri": "https://localhost:8080/"
    },
    "id": "5kIEQBxCMtSv",
    "outputId": "5ee48b38-ed75-4deb-b0be-7d22d00914d1"
   },
   "outputs": [
    {
     "name": "stdout",
     "output_type": "stream",
     "text": [
      "There are 131701 speakers with ethnic groups.\n"
     ]
    }
   ],
   "source": [
    "nb_ethnic = df_ethnic_melt['index'].value_counts().sum()\n",
    "print(\"There are\", nb_ethnic, \"speakers with ethnic groups.\")"
   ]
  },
  {
   "cell_type": "code",
   "execution_count": null,
   "metadata": {
    "colab": {
     "base_uri": "https://localhost:8080/"
    },
    "id": "oFIH13wONDK2",
    "outputId": "8e629292-fa72-4483-af74-793e90baf7dd"
   },
   "outputs": [
    {
     "name": "stdout",
     "output_type": "stream",
     "text": [
      "The proportion of speakers who are from Han Chinese people overall is 28.610% with 37679 persons.\n",
      "The proportion of speakers who are from African Americans overall is 14.469% with 19056 persons.\n",
      "The proportion of speakers who are from Armenians overall is 8.686% with 11440 persons.\n",
      "The proportion of speakers who are from Greeks overall is 4.003% with 5272 persons.\n",
      "The proportion of speakers who are from Albanians overall is 3.080% with 4057 persons.\n",
      "The proportion of speakers who are from Bulgarians overall is 2.750% with 3622 persons.\n",
      "The proportion of speakers who are from Czechs overall is 2.273% with 2993 persons.\n",
      "The proportion of speakers who are from Ukrainians overall is 2.211% with 2912 persons.\n",
      "The proportion of speakers who are from Japanese people overall is 2.142% with 2821 persons.\n",
      "The proportion of speakers who are from White Brazilian overall is 1.974% with 2600 persons.\n"
     ]
    }
   ],
   "source": [
    "nb_ethnic_1 = list_ethnic[0]\n",
    "nb_ethnic_2 = list_ethnic[1]\n",
    "nb_ethnic_3 = list_ethnic[2]\n",
    "nb_ethnic_4 = list_ethnic[3]\n",
    "nb_ethnic_5 = list_ethnic[4]\n",
    "nb_ethnic_6 = list_ethnic[5]\n",
    "nb_ethnic_7 = list_ethnic[6]\n",
    "nb_ethnic_8 = list_ethnic[7]\n",
    "nb_ethnic_9 = list_ethnic[8]\n",
    "nb_ethnic_10 = list_ethnic[9]\n",
    "\n",
    "proportion_ethnic_1 = nb_ethnic_1/nb_ethnic\n",
    "proportion_ethnic_2 = nb_ethnic_2/nb_ethnic\n",
    "proportion_ethnic_3 = nb_ethnic_3/nb_ethnic\n",
    "proportion_ethnic_4 = nb_ethnic_4/nb_ethnic\n",
    "proportion_ethnic_5 = nb_ethnic_5/nb_ethnic\n",
    "proportion_ethnic_6 = nb_ethnic_6/nb_ethnic\n",
    "proportion_ethnic_7 = nb_ethnic_7/nb_ethnic\n",
    "proportion_ethnic_8 = nb_ethnic_8/nb_ethnic\n",
    "proportion_ethnic_9 = nb_ethnic_9/nb_ethnic\n",
    "proportion_ethnic_10 = nb_ethnic_10/nb_ethnic\n",
    "\n",
    "\n",
    "print(\"The proportion of speakers who are from {} overall is {:.3f}% with {} persons.\".format(ethnicity_1, proportion_ethnic_1*100, nb_ethnic_1))\n",
    "print(\"The proportion of speakers who are from {} overall is {:.3f}% with {} persons.\".format(ethnicity_2, proportion_ethnic_2*100, nb_ethnic_2))\n",
    "print(\"The proportion of speakers who are from {} overall is {:.3f}% with {} persons.\".format(ethnicity_3, proportion_ethnic_3*100, nb_ethnic_3))\n",
    "print(\"The proportion of speakers who are from {} overall is {:.3f}% with {} persons.\".format(ethnicity_4, proportion_ethnic_4*100, nb_ethnic_4))\n",
    "print(\"The proportion of speakers who are from {} overall is {:.3f}% with {} persons.\".format(ethnicity_5, proportion_ethnic_5*100, nb_ethnic_5))\n",
    "print(\"The proportion of speakers who are from {} overall is {:.3f}% with {} persons.\".format(ethnicity_6, proportion_ethnic_6*100, nb_ethnic_6))\n",
    "print(\"The proportion of speakers who are from {} overall is {:.3f}% with {} persons.\".format(ethnicity_7, proportion_ethnic_7*100, nb_ethnic_7))\n",
    "print(\"The proportion of speakers who are from {} overall is {:.3f}% with {} persons.\".format(ethnicity_8, proportion_ethnic_8*100, nb_ethnic_8))\n",
    "print(\"The proportion of speakers who are from {} overall is {:.3f}% with {} persons.\".format(ethnicity_9, proportion_ethnic_9*100, nb_ethnic_9))\n",
    "print(\"The proportion of speakers who are from {} overall is {:.3f}% with {} persons.\".format(ethnicity_10, proportion_ethnic_10*100, nb_ethnic_10))"
   ]
  },
  {
   "cell_type": "markdown",
   "metadata": {
    "id": "bd-m9aBjZjsY"
   },
   "source": [
    "We plot the distribution of the speakers ethnicities."
   ]
  },
  {
   "cell_type": "code",
   "execution_count": 86,
   "metadata": {
    "colab": {
     "base_uri": "https://localhost:8080/",
     "height": 268
    },
    "id": "Ahm2lhBHZjRw",
    "outputId": "3b3eaefa-3507-4cad-b5ce-c20e4c71f70e"
   },
   "outputs": [
    {
     "data": {
      "image/png": "[encoded data removed]",
      "text/plain": [
       "<Figure size 432x288 with 1 Axes>"
      ]
     },
     "metadata": {},
     "output_type": "display_data"
    }
   ],
   "source": [
    "total = proportion_ethnic_1+proportion_ethnic_2+ proportion_ethnic_3 + proportion_ethnic_4+proportion_ethnic_5+proportion_ethnic_6+proportion_ethnic_7+proportion_ethnic_8+proportion_ethnic_9+proportion_ethnic_10\n",
    "rest = 1-total\n",
    "# Pie chart, where the slices will be ordered and plotted counter-clockwise:\n",
    "labels = ethnicity_1, ethnicity_2,ethnicity_3,ethnicity_4,ethnicity_5,ethnicity_6,ethnicity_7,ethnicity_8,ethnicity_9,ethnicity_10, 'Other'\n",
    "sizes = [proportion_ethnic_1, proportion_ethnic_2, proportion_ethnic_3, proportion_ethnic_4, proportion_ethnic_5, proportion_ethnic_6, proportion_ethnic_7, proportion_ethnic_8, proportion_ethnic_9, proportion_ethnic_10, rest]\n",
    "colors=['b', 'g', 'r', 'c', 'm', 'y', 'w', 'purple', '#ee966b', '#4a274f', 'c']\n",
    "fig1, ax1 = plt.subplots()\n",
    "ax1.pie(sizes, labels=labels, autopct='%1.1f%%',\n",
    "        shadow=True, startangle=90, colors=colors)\n",
    "ax1.axis('equal')  # Equal aspect ratio ensures that pie is drawn as a circle.\n",
    "plt.title(\"Distribution of the speakers' ethnicities\")\n",
    "\n",
    "plt.show()"
   ]
  },
  {
   "cell_type": "markdown",
   "metadata": {},
   "source": [
    "# **4. Dow Jones analysis**"
   ]
  },
  {
   "cell_type": "markdown",
   "metadata": {},
   "source": [
    "We want to analyse some data of the Dow Jones for the same time as the quotes we have from Quotebank."
   ]
  },
  {
   "cell_type": "code",
   "execution_count": 4,
   "metadata": {},
   "outputs": [],
   "source": [
    "# First we load the data in a DataFrame, and make a copy to apply modifications safely.\n",
    "\n",
    "dj_raw = pd.read_csv('USA30IDXUSD_D1.csv', sep='\\t')\n",
    "\n",
    "dj = dj_raw.copy()"
   ]
  },
  {
   "cell_type": "code",
   "execution_count": 5,
   "metadata": {},
   "outputs": [
    {
     "name": "stdout",
     "output_type": "stream",
     "text": [
      "<class 'pandas.core.frame.DataFrame'>\n",
      "RangeIndex: 2438 entries, 0 to 2437\n",
      "Data columns (total 6 columns):\n",
      " #   Column  Non-Null Count  Dtype  \n",
      "---  ------  --------------  -----  \n",
      " 0   Time    2438 non-null   object \n",
      " 1   Open    2438 non-null   float64\n",
      " 2   High    2438 non-null   float64\n",
      " 3   Low     2438 non-null   float64\n",
      " 4   Close   2438 non-null   float64\n",
      " 5   Volume  2438 non-null   int64  \n",
      "dtypes: float64(4), int64(1), object(1)\n",
      "memory usage: 114.4+ KB\n"
     ]
    },
    {
     "data": {
      "text/plain": [
       "None"
      ]
     },
     "metadata": {},
     "output_type": "display_data"
    },
    {
     "name": "stdout",
     "output_type": "stream",
     "text": [
      "\n",
      "\n"
     ]
    },
    {
     "data": {
      "text/html": [
       "<div>\n",
       "<style scoped>\n",
       "    .dataframe tbody tr th:only-of-type {\n",
       "        vertical-align: middle;\n",
       "    }\n",
       "\n",
       "    .dataframe tbody tr th {\n",
       "        vertical-align: top;\n",
       "    }\n",
       "\n",
       "    .dataframe thead th {\n",
       "        text-align: right;\n",
       "    }\n",
       "</style>\n",
       "<table border=\"1\" class=\"dataframe\">\n",
       "  <thead>\n",
       "    <tr style=\"text-align: right;\">\n",
       "      <th></th>\n",
       "      <th>Time</th>\n",
       "      <th>Open</th>\n",
       "      <th>High</th>\n",
       "      <th>Low</th>\n",
       "      <th>Close</th>\n",
       "      <th>Volume</th>\n",
       "    </tr>\n",
       "  </thead>\n",
       "  <tbody>\n",
       "    <tr>\n",
       "      <th>0</th>\n",
       "      <td>2013-05-23 00:00:00</td>\n",
       "      <td>15343.0</td>\n",
       "      <td>15353.0</td>\n",
       "      <td>15155.0</td>\n",
       "      <td>15328.0</td>\n",
       "      <td>1374</td>\n",
       "    </tr>\n",
       "    <tr>\n",
       "      <th>1</th>\n",
       "      <td>2013-05-24 00:00:00</td>\n",
       "      <td>15328.0</td>\n",
       "      <td>15345.0</td>\n",
       "      <td>15311.0</td>\n",
       "      <td>15322.0</td>\n",
       "      <td>225</td>\n",
       "    </tr>\n",
       "    <tr>\n",
       "      <th>2</th>\n",
       "      <td>2013-05-26 00:00:00</td>\n",
       "      <td>15313.0</td>\n",
       "      <td>15359.0</td>\n",
       "      <td>15313.0</td>\n",
       "      <td>15331.0</td>\n",
       "      <td>117</td>\n",
       "    </tr>\n",
       "    <tr>\n",
       "      <th>3</th>\n",
       "      <td>2013-05-27 00:00:00</td>\n",
       "      <td>15331.0</td>\n",
       "      <td>15347.0</td>\n",
       "      <td>15281.0</td>\n",
       "      <td>15334.0</td>\n",
       "      <td>1005</td>\n",
       "    </tr>\n",
       "    <tr>\n",
       "      <th>4</th>\n",
       "      <td>2013-05-28 00:00:00</td>\n",
       "      <td>15334.0</td>\n",
       "      <td>15522.0</td>\n",
       "      <td>15332.0</td>\n",
       "      <td>15391.0</td>\n",
       "      <td>1372</td>\n",
       "    </tr>\n",
       "  </tbody>\n",
       "</table>\n",
       "</div>"
      ],
      "text/plain": [
       "                  Time     Open     High      Low    Close  Volume\n",
       "0  2013-05-23 00:00:00  15343.0  15353.0  15155.0  15328.0    1374\n",
       "1  2013-05-24 00:00:00  15328.0  15345.0  15311.0  15322.0     225\n",
       "2  2013-05-26 00:00:00  15313.0  15359.0  15313.0  15331.0     117\n",
       "3  2013-05-27 00:00:00  15331.0  15347.0  15281.0  15334.0    1005\n",
       "4  2013-05-28 00:00:00  15334.0  15522.0  15332.0  15391.0    1372"
      ]
     },
     "metadata": {},
     "output_type": "display_data"
    }
   ],
   "source": [
    "# We get some infos about the dataset, and a first glimpse of what the data looks like with head().\n",
    "\n",
    "display(dj.info())\n",
    "print('\\n')\n",
    "display(dj.head())"
   ]
  },
  {
   "cell_type": "markdown",
   "metadata": {},
   "source": [
    "The data comes from https://forexsb.com/historical-forex-data, and represents the value of the Dow Jones through time.\n",
    "\n",
    "TODO : explain the different attributes Open, High, Low, Close, Volume and choose the most adapted one to plot. Possibly explain why it does not change much which attribute we choose."
   ]
  },
  {
   "cell_type": "code",
   "execution_count": 6,
   "metadata": {},
   "outputs": [
    {
     "name": "stdout",
     "output_type": "stream",
     "text": [
      "The type of the dates is  <class 'str'>\n"
     ]
    }
   ],
   "source": [
    "# We check the type of the dates.\n",
    "\n",
    "print('The type of the dates is ', type(dj['Time'][0]))"
   ]
  },
  {
   "cell_type": "code",
   "execution_count": 7,
   "metadata": {},
   "outputs": [
    {
     "name": "stdout",
     "output_type": "stream",
     "text": [
      "The type of the dates is  <class 'pandas._libs.tslibs.timestamps.Timestamp'>\n"
     ]
    }
   ],
   "source": [
    "# We change the type of the dates so it's more convenient to handle and to visualise when plotting.\n",
    "\n",
    "dj['Time'] = pd.to_datetime(dj['Time'], yearfirst=True)\n",
    "print('The type of the dates is ', type(dj['Time'][0]))"
   ]
  },
  {
   "cell_type": "code",
   "execution_count": 8,
   "metadata": {},
   "outputs": [
    {
     "data": {
      "text/plain": [
       "[<matplotlib.lines.Line2D at 0x7fd12852bbe0>]"
      ]
     },
     "execution_count": 8,
     "metadata": {},
     "output_type": "execute_result"
    },
    {
     "data": {
      "image/png": "[encoded data removed]",
      "text/plain": [
       "<Figure size 1080x360 with 1 Axes>"
      ]
     },
     "metadata": {
      "needs_background": "light"
     },
     "output_type": "display_data"
    }
   ],
   "source": [
    "# We plot the whole data set.\n",
    "\n",
    "plt.figure(figsize=(15, 5))\n",
    "\n",
    "ax = plt.gca()\n",
    "\n",
    "formatter = mdates.DateFormatter(\"%Y-%m\")\n",
    "\n",
    "ax.xaxis.set_major_formatter(formatter)\n",
    "\n",
    "locator = mdates.DayLocator(interval=365)\n",
    "\n",
    "ax.xaxis.set_major_locator(locator)\n",
    "\n",
    "plt.title('Dow Jones all data')\n",
    "plt.ylabel('Dollars')\n",
    "plt.plot(dj['Time'], dj['Close'])"
   ]
  },
  {
   "cell_type": "code",
   "execution_count": 9,
   "metadata": {},
   "outputs": [
    {
     "data": {
      "text/plain": [
       "Timestamp('2013-05-23 00:00:00')"
      ]
     },
     "metadata": {},
     "output_type": "display_data"
    },
    {
     "data": {
      "text/plain": [
       "Timestamp('2021-11-11 00:00:00')"
      ]
     },
     "metadata": {},
     "output_type": "display_data"
    }
   ],
   "source": [
    "# We check minimum and maximum values.\n",
    "\n",
    "min_ = dj['Time'].min()\n",
    "max_ = dj['Time'].max()\n",
    "\n",
    "display(min_)\n",
    "display(max_)"
   ]
  },
  {
   "cell_type": "markdown",
   "metadata": {},
   "source": [
    "We see that the data goes from May 23rd of 2013 until November 11th of 2021. Since the quotes we have from Quotebank go from 2015 to 2020 (included), we decided to keep the data from 2015 to 2020 only."
   ]
  },
  {
   "cell_type": "code",
   "execution_count": 10,
   "metadata": {},
   "outputs": [],
   "source": [
    "# We truncate the data to keep only the relevant one.\n",
    "\n",
    "dj = dj[(dj['Time'] >= '2015-01-01') & (dj['Time'] <= '2020-12-31')]"
   ]
  },
  {
   "cell_type": "code",
   "execution_count": 11,
   "metadata": {},
   "outputs": [
    {
     "data": {
      "text/plain": [
       "Timestamp('2015-01-02 00:00:00')"
      ]
     },
     "metadata": {},
     "output_type": "display_data"
    },
    {
     "data": {
      "text/plain": [
       "Timestamp('2020-12-31 00:00:00')"
      ]
     },
     "metadata": {},
     "output_type": "display_data"
    }
   ],
   "source": [
    "# We check minimum and maximum values.\n",
    "\n",
    "min_ = dj['Time'].min()\n",
    "max_ = dj['Time'].max()\n",
    "\n",
    "display(min_)\n",
    "display(max_)"
   ]
  },
  {
   "cell_type": "code",
   "execution_count": 12,
   "metadata": {},
   "outputs": [
    {
     "data": {
      "text/plain": [
       "[<matplotlib.lines.Line2D at 0x7fd0c23a2bb0>]"
      ]
     },
     "execution_count": 12,
     "metadata": {},
     "output_type": "execute_result"
    },
    {
     "data": {
      "image/png": "[encoded data removed]",
      "text/plain": [
       "<Figure size 1080x360 with 1 Axes>"
      ]
     },
     "metadata": {
      "needs_background": "light"
     },
     "output_type": "display_data"
    }
   ],
   "source": [
    "# We plot again, this time truncated from 2015 to 2020 (included).\n",
    "\n",
    "plt.figure(figsize=(15, 5))\n",
    "\n",
    "ax = plt.gca()\n",
    "\n",
    "formatter = mdates.DateFormatter(\"%Y-%m\")\n",
    "\n",
    "ax.xaxis.set_major_formatter(formatter)\n",
    "\n",
    "locator = mdates.DayLocator(interval=365)\n",
    "\n",
    "ax.xaxis.set_major_locator(locator)\n",
    "\n",
    "plt.title('Dow Jones 2015-2020')\n",
    "plt.ylabel('Dollars')\n",
    "plt.plot(dj['Time'], dj['Close'])"
   ]
  },
  {
   "cell_type": "code",
   "execution_count": 13,
   "metadata": {},
   "outputs": [],
   "source": [
    "# We create a column Deriv1 showing the difference of the value from one day to the next, namely the first derivative of the Dow Jones.\n",
    "\n",
    "dj['Deriv1'] = dj['Close'].diff()"
   ]
  },
  {
   "cell_type": "code",
   "execution_count": 14,
   "metadata": {},
   "outputs": [
    {
     "data": {
      "text/plain": [
       "[<matplotlib.lines.Line2D at 0x7fd0e86a36d0>]"
      ]
     },
     "execution_count": 14,
     "metadata": {},
     "output_type": "execute_result"
    },
    {
     "data": {
      "image/png": "[encoded data removed]",
      "text/plain": [
       "<Figure size 1080x360 with 1 Axes>"
      ]
     },
     "metadata": {
      "needs_background": "light"
     },
     "output_type": "display_data"
    }
   ],
   "source": [
    "# We plot the first derivative.\n",
    "\n",
    "plt.figure(figsize=(15, 5))\n",
    "\n",
    "ax = plt.gca()\n",
    "\n",
    "formatter = mdates.DateFormatter(\"%Y-%m\")\n",
    "\n",
    "ax.xaxis.set_major_formatter(formatter)\n",
    "\n",
    "locator = mdates.DayLocator(interval=365)\n",
    "\n",
    "ax.xaxis.set_major_locator(locator)\n",
    "\n",
    "plt.title('First derivative of Dow Jones')\n",
    "plt.ylabel('Dollars')\n",
    "plt.plot(dj['Time'], dj['Deriv1'])"
   ]
  },
  {
   "cell_type": "code",
   "execution_count": 15,
   "metadata": {},
   "outputs": [],
   "source": [
    "# We get the second derivative, to grasp rapid variations that do not last long.\n",
    "\n",
    "dj['Deriv2'] = dj['Deriv1'].diff()"
   ]
  },
  {
   "cell_type": "code",
   "execution_count": 16,
   "metadata": {},
   "outputs": [
    {
     "data": {
      "text/plain": [
       "[<matplotlib.lines.Line2D at 0x7fd12883eb20>]"
      ]
     },
     "execution_count": 16,
     "metadata": {},
     "output_type": "execute_result"
    },
    {
     "data": {
      "image/png": "[encoded data removed]",
      "text/plain": [
       "<Figure size 1080x360 with 1 Axes>"
      ]
     },
     "metadata": {
      "needs_background": "light"
     },
     "output_type": "display_data"
    }
   ],
   "source": [
    "# We plot the second derivative.\n",
    "\n",
    "plt.figure(figsize=(15, 5))\n",
    "\n",
    "ax = plt.gca()\n",
    "\n",
    "formatter = mdates.DateFormatter(\"%Y-%m\")\n",
    "\n",
    "ax.xaxis.set_major_formatter(formatter)\n",
    "\n",
    "locator = mdates.DayLocator(interval=365)\n",
    "\n",
    "ax.xaxis.set_major_locator(locator)\n",
    "\n",
    "plt.title('Second derivative of Dow Jones')\n",
    "plt.ylabel('Dollars')\n",
    "plt.plot(dj['Time'], dj['Deriv2'])"
   ]
  }
 ],
 "metadata": {
  "colab": {
   "collapsed_sections": [],
   "name": "milestone2",
   "provenance": []
  },
  "kernelspec": {
   "display_name": "Python 3",
   "language": "python",
   "name": "python3"
  },
  "language_info": {
   "codemirror_mode": {
    "name": "ipython",
    "version": 3
   },
   "file_extension": ".py",
   "mimetype": "text/x-python",
   "name": "python",
   "nbconvert_exporter": "python",
   "pygments_lexer": "ipython3",
   "version": "3.8.5"
  }
 },
 "nbformat": 4,
 "nbformat_minor": 1
}
