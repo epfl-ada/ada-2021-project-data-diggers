{
  "nbformat": 4,
  "nbformat_minor": 0,
  "metadata": {
    "colab": {
      "name": "Quotebank_cleaning.ipynb",
      "provenance": [],
      "collapsed_sections": [
        "em8jLAEAsrkg"
      ]
    },
    "kernelspec": {
      "name": "python3",
      "display_name": "Python 3"
    },
    "language_info": {
      "name": "python"
    }
  },
  "cells": [
    {
      "cell_type": "code",
      "execution_count": 1,
      "metadata": {
        "colab": {
          "base_uri": "https://localhost:8080/"
        },
        "id": "1-n1QN2e3QN2",
        "outputId": "158882d5-8826-426b-a3c8-3643b70fa546"
      },
      "outputs": [
        {
          "output_type": "stream",
          "name": "stdout",
          "text": [
            "Mounted at /content/drive\n"
          ]
        }
      ],
      "source": [
        "from google.colab import drive\n",
        "drive.mount('/content/drive', force_remount=True)"
      ]
    },
    {
      "cell_type": "code",
      "source": [
        "import pandas as pd\n",
        "import numpy as np\n",
        "from datetime import datetime\n",
        "import matplotlib.pyplot as plt\n",
        "from matplotlib import figure\n",
        "import matplotlib.dates as mdates\n",
        "import json"
      ],
      "metadata": {
        "id": "Y0zrH5_v3gQt"
      },
      "execution_count": 2,
      "outputs": []
    },
    {
      "cell_type": "markdown",
      "source": [
        "# Load of Data"
      ],
      "metadata": {
        "id": "dOQKUIOjsdnI"
      }
    },
    {
      "cell_type": "code",
      "source": [
        "PATH_ROOT = '/content/drive/MyDrive/EPFL/ADA'\n",
        "PATH_PARQUET = PATH_ROOT + '/Project datasets'\n",
        "PATH_QUOTEBANK = PATH_ROOT + '/Quotebank'\n",
        "PATH_TO_QUOTES = PATH_QUOTEBANK + '/quotes-{year}.json.bz2'"
      ],
      "metadata": {
        "id": "N-d0Dft3sxUy"
      },
      "execution_count": 3,
      "outputs": []
    },
    {
      "cell_type": "markdown",
      "source": [
        "## Load of Quotebank"
      ],
      "metadata": {
        "id": "x_aTBymKrI1l"
      }
    },
    {
      "cell_type": "code",
      "source": [
        "path_new_file = '/content/drive/MyDrive/EPFL/ADA/NYT/quotes_nyt.json'\n",
        "df = pd.read_json(path_new_file, orient='index')\n",
        "df.head()"
      ],
      "metadata": {
        "id": "1fnl9jbQBsn8",
        "colab": {
          "base_uri": "https://localhost:8080/",
          "height": 206
        },
        "outputId": "82f4fd1b-1eab-49cf-e577-6f1f95fe86b2"
      },
      "execution_count": 4,
      "outputs": [
        {
          "output_type": "execute_result",
          "data": {
            "text/html": [
              "<div>\n",
              "<style scoped>\n",
              "    .dataframe tbody tr th:only-of-type {\n",
              "        vertical-align: middle;\n",
              "    }\n",
              "\n",
              "    .dataframe tbody tr th {\n",
              "        vertical-align: top;\n",
              "    }\n",
              "\n",
              "    .dataframe thead th {\n",
              "        text-align: right;\n",
              "    }\n",
              "</style>\n",
              "<table border=\"1\" class=\"dataframe\">\n",
              "  <thead>\n",
              "    <tr style=\"text-align: right;\">\n",
              "      <th></th>\n",
              "      <th>quoteID</th>\n",
              "      <th>quotation</th>\n",
              "      <th>speaker</th>\n",
              "      <th>qids</th>\n",
              "      <th>date</th>\n",
              "      <th>numOccurrences</th>\n",
              "      <th>probas</th>\n",
              "      <th>urls</th>\n",
              "      <th>phase</th>\n",
              "    </tr>\n",
              "  </thead>\n",
              "  <tbody>\n",
              "    <tr>\n",
              "      <th>0</th>\n",
              "      <td>2020-02-18-004289</td>\n",
              "      <td>an appetite for power.</td>\n",
              "      <td>None</td>\n",
              "      <td>[]</td>\n",
              "      <td>2020-02-18 14:44:45</td>\n",
              "      <td>3</td>\n",
              "      <td>[[None, 0.3665], [Robin Niblett, 0.3339], [Jos...</td>\n",
              "      <td>[https://hypervocal.com/items/3249757, https:/...</td>\n",
              "      <td>E</td>\n",
              "    </tr>\n",
              "    <tr>\n",
              "      <th>1</th>\n",
              "      <td>2020-01-09-006199</td>\n",
              "      <td>Andrew Yang's Lies About Supporting Medicare f...</td>\n",
              "      <td>Andrew Yang</td>\n",
              "      <td>[Q11118258, Q28723576]</td>\n",
              "      <td>2020-01-09 01:21:54</td>\n",
              "      <td>2</td>\n",
              "      <td>[[Andrew Yang, 0.7197], [None, 0.2804]]</td>\n",
              "      <td>[https://www.nytimes.com/2020/01/08/opinion/me...</td>\n",
              "      <td>E</td>\n",
              "    </tr>\n",
              "    <tr>\n",
              "      <th>2</th>\n",
              "      <td>2020-01-22-017789</td>\n",
              "      <td>eager to erase the image of congressional Repu...</td>\n",
              "      <td>Eric Cantor</td>\n",
              "      <td>[Q497271]</td>\n",
              "      <td>2020-01-22 21:20:52</td>\n",
              "      <td>2</td>\n",
              "      <td>[[Eric Cantor, 0.5013], [None, 0.3045], [Kevin...</td>\n",
              "      <td>[http://mobile.nytimes.com/2020/01/22/us/polit...</td>\n",
              "      <td>E</td>\n",
              "    </tr>\n",
              "    <tr>\n",
              "      <th>3</th>\n",
              "      <td>2020-01-31-022641</td>\n",
              "      <td>Given the partisan nature of this impeachment ...</td>\n",
              "      <td>Lisa Murkowski</td>\n",
              "      <td>[Q22360]</td>\n",
              "      <td>2020-01-31 00:00:00</td>\n",
              "      <td>24</td>\n",
              "      <td>[[Lisa Murkowski, 0.6433], [None, 0.224], [Joh...</td>\n",
              "      <td>[http://feeds.foxnews.com/~r/foxnews/politics/...</td>\n",
              "      <td>E</td>\n",
              "    </tr>\n",
              "    <tr>\n",
              "      <th>4</th>\n",
              "      <td>2020-01-23-024008</td>\n",
              "      <td>He got on top of me, and he raped me.</td>\n",
              "      <td>Annabella Sciorra</td>\n",
              "      <td>[Q231395]</td>\n",
              "      <td>2020-01-23 00:00:00</td>\n",
              "      <td>75</td>\n",
              "      <td>[[Annabella Sciorra, 0.5251], [Harvey Weinstei...</td>\n",
              "      <td>[https://www.rawstory.com/2020/01/sopranos-act...</td>\n",
              "      <td>E</td>\n",
              "    </tr>\n",
              "  </tbody>\n",
              "</table>\n",
              "</div>"
            ],
            "text/plain": [
              "             quoteID  ... phase\n",
              "0  2020-02-18-004289  ...     E\n",
              "1  2020-01-09-006199  ...     E\n",
              "2  2020-01-22-017789  ...     E\n",
              "3  2020-01-31-022641  ...     E\n",
              "4  2020-01-23-024008  ...     E\n",
              "\n",
              "[5 rows x 9 columns]"
            ]
          },
          "metadata": {},
          "execution_count": 4
        }
      ]
    },
    {
      "cell_type": "code",
      "source": [
        "df.drop(['phase'], axis=1, inplace = True)\n",
        "df.head()"
      ],
      "metadata": {
        "colab": {
          "base_uri": "https://localhost:8080/",
          "height": 206
        },
        "id": "qU4JoojAoq2D",
        "outputId": "11c696d8-7ae8-4a45-95c5-b252d9761a63"
      },
      "execution_count": 5,
      "outputs": [
        {
          "output_type": "execute_result",
          "data": {
            "text/html": [
              "<div>\n",
              "<style scoped>\n",
              "    .dataframe tbody tr th:only-of-type {\n",
              "        vertical-align: middle;\n",
              "    }\n",
              "\n",
              "    .dataframe tbody tr th {\n",
              "        vertical-align: top;\n",
              "    }\n",
              "\n",
              "    .dataframe thead th {\n",
              "        text-align: right;\n",
              "    }\n",
              "</style>\n",
              "<table border=\"1\" class=\"dataframe\">\n",
              "  <thead>\n",
              "    <tr style=\"text-align: right;\">\n",
              "      <th></th>\n",
              "      <th>quoteID</th>\n",
              "      <th>quotation</th>\n",
              "      <th>speaker</th>\n",
              "      <th>qids</th>\n",
              "      <th>date</th>\n",
              "      <th>numOccurrences</th>\n",
              "      <th>probas</th>\n",
              "      <th>urls</th>\n",
              "    </tr>\n",
              "  </thead>\n",
              "  <tbody>\n",
              "    <tr>\n",
              "      <th>0</th>\n",
              "      <td>2020-02-18-004289</td>\n",
              "      <td>an appetite for power.</td>\n",
              "      <td>None</td>\n",
              "      <td>[]</td>\n",
              "      <td>2020-02-18 14:44:45</td>\n",
              "      <td>3</td>\n",
              "      <td>[[None, 0.3665], [Robin Niblett, 0.3339], [Jos...</td>\n",
              "      <td>[https://hypervocal.com/items/3249757, https:/...</td>\n",
              "    </tr>\n",
              "    <tr>\n",
              "      <th>1</th>\n",
              "      <td>2020-01-09-006199</td>\n",
              "      <td>Andrew Yang's Lies About Supporting Medicare f...</td>\n",
              "      <td>Andrew Yang</td>\n",
              "      <td>[Q11118258, Q28723576]</td>\n",
              "      <td>2020-01-09 01:21:54</td>\n",
              "      <td>2</td>\n",
              "      <td>[[Andrew Yang, 0.7197], [None, 0.2804]]</td>\n",
              "      <td>[https://www.nytimes.com/2020/01/08/opinion/me...</td>\n",
              "    </tr>\n",
              "    <tr>\n",
              "      <th>2</th>\n",
              "      <td>2020-01-22-017789</td>\n",
              "      <td>eager to erase the image of congressional Repu...</td>\n",
              "      <td>Eric Cantor</td>\n",
              "      <td>[Q497271]</td>\n",
              "      <td>2020-01-22 21:20:52</td>\n",
              "      <td>2</td>\n",
              "      <td>[[Eric Cantor, 0.5013], [None, 0.3045], [Kevin...</td>\n",
              "      <td>[http://mobile.nytimes.com/2020/01/22/us/polit...</td>\n",
              "    </tr>\n",
              "    <tr>\n",
              "      <th>3</th>\n",
              "      <td>2020-01-31-022641</td>\n",
              "      <td>Given the partisan nature of this impeachment ...</td>\n",
              "      <td>Lisa Murkowski</td>\n",
              "      <td>[Q22360]</td>\n",
              "      <td>2020-01-31 00:00:00</td>\n",
              "      <td>24</td>\n",
              "      <td>[[Lisa Murkowski, 0.6433], [None, 0.224], [Joh...</td>\n",
              "      <td>[http://feeds.foxnews.com/~r/foxnews/politics/...</td>\n",
              "    </tr>\n",
              "    <tr>\n",
              "      <th>4</th>\n",
              "      <td>2020-01-23-024008</td>\n",
              "      <td>He got on top of me, and he raped me.</td>\n",
              "      <td>Annabella Sciorra</td>\n",
              "      <td>[Q231395]</td>\n",
              "      <td>2020-01-23 00:00:00</td>\n",
              "      <td>75</td>\n",
              "      <td>[[Annabella Sciorra, 0.5251], [Harvey Weinstei...</td>\n",
              "      <td>[https://www.rawstory.com/2020/01/sopranos-act...</td>\n",
              "    </tr>\n",
              "  </tbody>\n",
              "</table>\n",
              "</div>"
            ],
            "text/plain": [
              "             quoteID  ...                                               urls\n",
              "0  2020-02-18-004289  ...  [https://hypervocal.com/items/3249757, https:/...\n",
              "1  2020-01-09-006199  ...  [https://www.nytimes.com/2020/01/08/opinion/me...\n",
              "2  2020-01-22-017789  ...  [http://mobile.nytimes.com/2020/01/22/us/polit...\n",
              "3  2020-01-31-022641  ...  [http://feeds.foxnews.com/~r/foxnews/politics/...\n",
              "4  2020-01-23-024008  ...  [https://www.rawstory.com/2020/01/sopranos-act...\n",
              "\n",
              "[5 rows x 8 columns]"
            ]
          },
          "metadata": {},
          "execution_count": 5
        }
      ]
    },
    {
      "cell_type": "code",
      "source": [
        "df['quoteID'].count()"
      ],
      "metadata": {
        "colab": {
          "base_uri": "https://localhost:8080/"
        },
        "id": "d7_vVjo8h-r2",
        "outputId": "76ea0006-8a6b-4d39-8e91-8ffb1d3788ed"
      },
      "execution_count": null,
      "outputs": [
        {
          "output_type": "execute_result",
          "data": {
            "text/plain": [
              "635130"
            ]
          },
          "metadata": {},
          "execution_count": 5
        }
      ]
    },
    {
      "cell_type": "code",
      "source": [
        "df.describe()"
      ],
      "metadata": {
        "colab": {
          "base_uri": "https://localhost:8080/",
          "height": 300
        },
        "id": "vWY9a-27iD7e",
        "outputId": "51b04e8b-6de5-4128-a980-3e029beb9e4b"
      },
      "execution_count": null,
      "outputs": [
        {
          "output_type": "execute_result",
          "data": {
            "text/html": [
              "<div>\n",
              "<style scoped>\n",
              "    .dataframe tbody tr th:only-of-type {\n",
              "        vertical-align: middle;\n",
              "    }\n",
              "\n",
              "    .dataframe tbody tr th {\n",
              "        vertical-align: top;\n",
              "    }\n",
              "\n",
              "    .dataframe thead th {\n",
              "        text-align: right;\n",
              "    }\n",
              "</style>\n",
              "<table border=\"1\" class=\"dataframe\">\n",
              "  <thead>\n",
              "    <tr style=\"text-align: right;\">\n",
              "      <th></th>\n",
              "      <th>numOccurrences</th>\n",
              "    </tr>\n",
              "  </thead>\n",
              "  <tbody>\n",
              "    <tr>\n",
              "      <th>count</th>\n",
              "      <td>635130.000000</td>\n",
              "    </tr>\n",
              "    <tr>\n",
              "      <th>mean</th>\n",
              "      <td>18.477490</td>\n",
              "    </tr>\n",
              "    <tr>\n",
              "      <th>std</th>\n",
              "      <td>169.875859</td>\n",
              "    </tr>\n",
              "    <tr>\n",
              "      <th>min</th>\n",
              "      <td>1.000000</td>\n",
              "    </tr>\n",
              "    <tr>\n",
              "      <th>25%</th>\n",
              "      <td>2.000000</td>\n",
              "    </tr>\n",
              "    <tr>\n",
              "      <th>50%</th>\n",
              "      <td>3.000000</td>\n",
              "    </tr>\n",
              "    <tr>\n",
              "      <th>75%</th>\n",
              "      <td>8.000000</td>\n",
              "    </tr>\n",
              "    <tr>\n",
              "      <th>max</th>\n",
              "      <td>61029.000000</td>\n",
              "    </tr>\n",
              "  </tbody>\n",
              "</table>\n",
              "</div>"
            ],
            "text/plain": [
              "       numOccurrences\n",
              "count   635130.000000\n",
              "mean        18.477490\n",
              "std        169.875859\n",
              "min          1.000000\n",
              "25%          2.000000\n",
              "50%          3.000000\n",
              "75%          8.000000\n",
              "max      61029.000000"
            ]
          },
          "metadata": {},
          "execution_count": 6
        }
      ]
    },
    {
      "cell_type": "code",
      "source": [
        "if(~df['quoteID'].is_unique):\n",
        "    df.drop_duplicates(subset=['quoteID'], inplace=True)"
      ],
      "metadata": {
        "id": "IaFGrcnMiVcg"
      },
      "execution_count": null,
      "outputs": []
    },
    {
      "cell_type": "code",
      "source": [
        "df['quoteID'].count()"
      ],
      "metadata": {
        "colab": {
          "base_uri": "https://localhost:8080/"
        },
        "id": "qwXY-iuyiqvC",
        "outputId": "a5c01913-b5d0-4e56-95ad-b88fe233d603"
      },
      "execution_count": null,
      "outputs": [
        {
          "output_type": "execute_result",
          "data": {
            "text/plain": [
              "635130"
            ]
          },
          "metadata": {},
          "execution_count": 8
        }
      ]
    },
    {
      "cell_type": "code",
      "source": [
        "df[df.numOccurrences<100].hist(bins = 200, figsize = (25,10), legend=True)"
      ],
      "metadata": {
        "colab": {
          "base_uri": "https://localhost:8080/",
          "height": 642
        },
        "id": "gKX4SHaelx8z",
        "outputId": "f8d01775-8cb3-4787-9d27-48e238d8c0a7"
      },
      "execution_count": null,
      "outputs": [
        {
          "output_type": "execute_result",
          "data": {
            "text/plain": [
              "array([[<matplotlib.axes._subplots.AxesSubplot object at 0x7fe90419ec90>]],\n",
              "      dtype=object)"
            ]
          },
          "metadata": {},
          "execution_count": 9
        },
        {
          "output_type": "display_data",
          "data": {
            "image/png": "[encoded data removed]",
            "text/plain": [
              "<Figure size 1800x720 with 1 Axes>"
            ]
          },
          "metadata": {
            "needs_background": "light"
          }
        }
      ]
    },
    {
      "cell_type": "code",
      "source": [
        "df['speaker'].value_counts()"
      ],
      "metadata": {
        "colab": {
          "base_uri": "https://localhost:8080/"
        },
        "id": "ym5DonQ3ixwA",
        "outputId": "7e45a116-36cb-42cf-aac1-fac3fe70aa4c"
      },
      "execution_count": 9,
      "outputs": [
        {
          "output_type": "execute_result",
          "data": {
            "text/plain": [
              "None                      224597\n",
              "President Donald Trump      6169\n",
              "President Trump             4675\n",
              "Donald Trump                4005\n",
              "Hillary Clinton             1421\n",
              "                           ...  \n",
              "Richie Havens                  1\n",
              "Mohammed Omer                  1\n",
              "Diane Simpson                  1\n",
              "Matthew Barlow                 1\n",
              "Richard M. Bowen III           1\n",
              "Name: speaker, Length: 62730, dtype: int64"
            ]
          },
          "metadata": {},
          "execution_count": 9
        }
      ]
    },
    {
      "cell_type": "markdown",
      "source": [
        "## Load of wikidata set"
      ],
      "metadata": {
        "id": "em8jLAEAsrkg"
      }
    },
    {
      "cell_type": "code",
      "source": [
        "wiki_quotation = pd.read_csv(PATH_PARQUET + '/wikidata_labels_descriptions_quotebank.csv.bz2', compression='bz2', index_col='QID')"
      ],
      "metadata": {
        "id": "pEjF0dy3zskb"
      },
      "execution_count": null,
      "outputs": []
    },
    {
      "cell_type": "code",
      "source": [
        "wiki_quotation.info()"
      ],
      "metadata": {
        "id": "HkgIgCOxs3Ss",
        "colab": {
          "base_uri": "https://localhost:8080/"
        },
        "outputId": "d11cc1e9-fdc3-407e-db8c-2346fbfc65fe"
      },
      "execution_count": null,
      "outputs": [
        {
          "output_type": "stream",
          "name": "stdout",
          "text": [
            "<class 'pandas.core.frame.DataFrame'>\n",
            "Index: 36969 entries, Q31 to Q106376887\n",
            "Data columns (total 2 columns):\n",
            " #   Column       Non-Null Count  Dtype \n",
            "---  ------       --------------  ----- \n",
            " 0   Label        32951 non-null  object\n",
            " 1   Description  24542 non-null  object\n",
            "dtypes: object(2)\n",
            "memory usage: 866.5+ KB\n"
          ]
        }
      ]
    },
    {
      "cell_type": "code",
      "source": [
        "wiki_quotation.head()"
      ],
      "metadata": {
        "id": "AW0ESNhys4UN",
        "colab": {
          "base_uri": "https://localhost:8080/",
          "height": 238
        },
        "outputId": "1c7affd6-b55e-4007-d181-c357aa411ef9"
      },
      "execution_count": null,
      "outputs": [
        {
          "output_type": "execute_result",
          "data": {
            "text/html": [
              "<div>\n",
              "<style scoped>\n",
              "    .dataframe tbody tr th:only-of-type {\n",
              "        vertical-align: middle;\n",
              "    }\n",
              "\n",
              "    .dataframe tbody tr th {\n",
              "        vertical-align: top;\n",
              "    }\n",
              "\n",
              "    .dataframe thead th {\n",
              "        text-align: right;\n",
              "    }\n",
              "</style>\n",
              "<table border=\"1\" class=\"dataframe\">\n",
              "  <thead>\n",
              "    <tr style=\"text-align: right;\">\n",
              "      <th></th>\n",
              "      <th>Label</th>\n",
              "      <th>Description</th>\n",
              "    </tr>\n",
              "    <tr>\n",
              "      <th>QID</th>\n",
              "      <th></th>\n",
              "      <th></th>\n",
              "    </tr>\n",
              "  </thead>\n",
              "  <tbody>\n",
              "    <tr>\n",
              "      <th>Q31</th>\n",
              "      <td>Belgium</td>\n",
              "      <td>country in western Europe</td>\n",
              "    </tr>\n",
              "    <tr>\n",
              "      <th>Q45</th>\n",
              "      <td>Portugal</td>\n",
              "      <td>country in southwestern Europe</td>\n",
              "    </tr>\n",
              "    <tr>\n",
              "      <th>Q75</th>\n",
              "      <td>Internet</td>\n",
              "      <td>global system of connected computer networks</td>\n",
              "    </tr>\n",
              "    <tr>\n",
              "      <th>Q148</th>\n",
              "      <td>People's Republic of China</td>\n",
              "      <td>sovereign state in East Asia</td>\n",
              "    </tr>\n",
              "    <tr>\n",
              "      <th>Q155</th>\n",
              "      <td>Brazil</td>\n",
              "      <td>country in South America</td>\n",
              "    </tr>\n",
              "  </tbody>\n",
              "</table>\n",
              "</div>"
            ],
            "text/plain": [
              "                           Label                                   Description\n",
              "QID                                                                           \n",
              "Q31                      Belgium                     country in western Europe\n",
              "Q45                     Portugal                country in southwestern Europe\n",
              "Q75                     Internet  global system of connected computer networks\n",
              "Q148  People's Republic of China                  sovereign state in East Asia\n",
              "Q155                      Brazil                      country in South America"
            ]
          },
          "metadata": {},
          "execution_count": 15
        }
      ]
    },
    {
      "cell_type": "markdown",
      "source": [
        "## Load of speaker dataset\n"
      ],
      "metadata": {
        "id": "S5c0hzQBrMy6"
      }
    },
    {
      "cell_type": "code",
      "source": [
        "df_speakers = pd.read_parquet(PATH_PARQUET + '/speaker_attributes.parquet')\n",
        "#df_speakers.set_index(keys='id', inplace=True)"
      ],
      "metadata": {
        "id": "49f340-lrTD7"
      },
      "execution_count": 6,
      "outputs": []
    },
    {
      "cell_type": "code",
      "source": [
        "df_speakers.info()"
      ],
      "metadata": {
        "id": "W9_8udGJs-Y7",
        "colab": {
          "base_uri": "https://localhost:8080/"
        },
        "outputId": "2c682de1-b532-40b5-fb14-3313002c6162"
      },
      "execution_count": null,
      "outputs": [
        {
          "output_type": "stream",
          "name": "stdout",
          "text": [
            "<class 'pandas.core.frame.DataFrame'>\n",
            "Index: 9055981 entries, Q23 to Q106406643\n",
            "Data columns (total 14 columns):\n",
            " #   Column              Dtype \n",
            "---  ------              ----- \n",
            " 0   aliases             object\n",
            " 1   date_of_birth       object\n",
            " 2   nationality         object\n",
            " 3   gender              object\n",
            " 4   lastrevid           int64 \n",
            " 5   ethnic_group        object\n",
            " 6   US_congress_bio_ID  object\n",
            " 7   occupation          object\n",
            " 8   party               object\n",
            " 9   academic_degree     object\n",
            " 10  label               object\n",
            " 11  candidacy           object\n",
            " 12  type                object\n",
            " 13  religion            object\n",
            "dtypes: int64(1), object(13)\n",
            "memory usage: 1.0+ GB\n"
          ]
        }
      ]
    },
    {
      "cell_type": "code",
      "source": [
        "df_speakers.head()"
      ],
      "metadata": {
        "id": "w9xy7mBgs_yX",
        "colab": {
          "base_uri": "https://localhost:8080/",
          "height": 553
        },
        "outputId": "49acc14b-8eed-467f-d676-22a4176b2c71"
      },
      "execution_count": null,
      "outputs": [
        {
          "output_type": "execute_result",
          "data": {
            "text/html": [
              "<div>\n",
              "<style scoped>\n",
              "    .dataframe tbody tr th:only-of-type {\n",
              "        vertical-align: middle;\n",
              "    }\n",
              "\n",
              "    .dataframe tbody tr th {\n",
              "        vertical-align: top;\n",
              "    }\n",
              "\n",
              "    .dataframe thead th {\n",
              "        text-align: right;\n",
              "    }\n",
              "</style>\n",
              "<table border=\"1\" class=\"dataframe\">\n",
              "  <thead>\n",
              "    <tr style=\"text-align: right;\">\n",
              "      <th></th>\n",
              "      <th>aliases</th>\n",
              "      <th>date_of_birth</th>\n",
              "      <th>nationality</th>\n",
              "      <th>gender</th>\n",
              "      <th>lastrevid</th>\n",
              "      <th>ethnic_group</th>\n",
              "      <th>US_congress_bio_ID</th>\n",
              "      <th>occupation</th>\n",
              "      <th>party</th>\n",
              "      <th>academic_degree</th>\n",
              "      <th>id</th>\n",
              "      <th>label</th>\n",
              "      <th>candidacy</th>\n",
              "      <th>type</th>\n",
              "      <th>religion</th>\n",
              "    </tr>\n",
              "  </thead>\n",
              "  <tbody>\n",
              "    <tr>\n",
              "      <th>0</th>\n",
              "      <td>[Washington, President Washington, G. Washingt...</td>\n",
              "      <td>[+1732-02-22T00:00:00Z]</td>\n",
              "      <td>[Q161885, Q30]</td>\n",
              "      <td>[Q6581097]</td>\n",
              "      <td>1395141751</td>\n",
              "      <td>None</td>\n",
              "      <td>W000178</td>\n",
              "      <td>[Q82955, Q189290, Q131512, Q1734662, Q294126, ...</td>\n",
              "      <td>[Q327591]</td>\n",
              "      <td>None</td>\n",
              "      <td>Q23</td>\n",
              "      <td>George Washington</td>\n",
              "      <td>[Q698073, Q697949]</td>\n",
              "      <td>item</td>\n",
              "      <td>[Q682443]</td>\n",
              "    </tr>\n",
              "    <tr>\n",
              "      <th>1</th>\n",
              "      <td>[Douglas Noel Adams, Douglas Noël Adams, Dougl...</td>\n",
              "      <td>[+1952-03-11T00:00:00Z]</td>\n",
              "      <td>[Q145]</td>\n",
              "      <td>[Q6581097]</td>\n",
              "      <td>1395737157</td>\n",
              "      <td>[Q7994501]</td>\n",
              "      <td>None</td>\n",
              "      <td>[Q214917, Q28389, Q6625963, Q4853732, Q1884422...</td>\n",
              "      <td>None</td>\n",
              "      <td>None</td>\n",
              "      <td>Q42</td>\n",
              "      <td>Douglas Adams</td>\n",
              "      <td>None</td>\n",
              "      <td>item</td>\n",
              "      <td>None</td>\n",
              "    </tr>\n",
              "    <tr>\n",
              "      <th>2</th>\n",
              "      <td>[Paul Marie Ghislain Otlet, Paul Marie Otlet]</td>\n",
              "      <td>[+1868-08-23T00:00:00Z]</td>\n",
              "      <td>[Q31]</td>\n",
              "      <td>[Q6581097]</td>\n",
              "      <td>1380367296</td>\n",
              "      <td>None</td>\n",
              "      <td>None</td>\n",
              "      <td>[Q36180, Q40348, Q182436, Q1265807, Q205375, Q...</td>\n",
              "      <td>None</td>\n",
              "      <td>None</td>\n",
              "      <td>Q1868</td>\n",
              "      <td>Paul Otlet</td>\n",
              "      <td>None</td>\n",
              "      <td>item</td>\n",
              "      <td>None</td>\n",
              "    </tr>\n",
              "    <tr>\n",
              "      <th>3</th>\n",
              "      <td>[George Walker Bush, Bush Jr., Dubya, GWB, Bus...</td>\n",
              "      <td>[+1946-07-06T00:00:00Z]</td>\n",
              "      <td>[Q30]</td>\n",
              "      <td>[Q6581097]</td>\n",
              "      <td>1395142029</td>\n",
              "      <td>None</td>\n",
              "      <td>None</td>\n",
              "      <td>[Q82955, Q15982858, Q18814623, Q1028181, Q1408...</td>\n",
              "      <td>[Q29468]</td>\n",
              "      <td>None</td>\n",
              "      <td>Q207</td>\n",
              "      <td>George W. Bush</td>\n",
              "      <td>[Q327959, Q464075, Q3586276, Q4450587]</td>\n",
              "      <td>item</td>\n",
              "      <td>[Q329646, Q682443, Q33203]</td>\n",
              "    </tr>\n",
              "    <tr>\n",
              "      <th>4</th>\n",
              "      <td>[Velázquez, Diego Rodríguez de Silva y Velázqu...</td>\n",
              "      <td>[+1599-06-06T00:00:00Z]</td>\n",
              "      <td>[Q29]</td>\n",
              "      <td>[Q6581097]</td>\n",
              "      <td>1391704596</td>\n",
              "      <td>None</td>\n",
              "      <td>None</td>\n",
              "      <td>[Q1028181]</td>\n",
              "      <td>None</td>\n",
              "      <td>None</td>\n",
              "      <td>Q297</td>\n",
              "      <td>Diego Velázquez</td>\n",
              "      <td>None</td>\n",
              "      <td>item</td>\n",
              "      <td>None</td>\n",
              "    </tr>\n",
              "  </tbody>\n",
              "</table>\n",
              "</div>"
            ],
            "text/plain": [
              "                                             aliases  ...                    religion\n",
              "0  [Washington, President Washington, G. Washingt...  ...                   [Q682443]\n",
              "1  [Douglas Noel Adams, Douglas Noël Adams, Dougl...  ...                        None\n",
              "2      [Paul Marie Ghislain Otlet, Paul Marie Otlet]  ...                        None\n",
              "3  [George Walker Bush, Bush Jr., Dubya, GWB, Bus...  ...  [Q329646, Q682443, Q33203]\n",
              "4  [Velázquez, Diego Rodríguez de Silva y Velázqu...  ...                        None\n",
              "\n",
              "[5 rows x 15 columns]"
            ]
          },
          "metadata": {},
          "execution_count": 7
        }
      ]
    },
    {
      "cell_type": "code",
      "source": [
        "df_speakers[df_speakers.id == 'Q22360']"
      ],
      "metadata": {
        "colab": {
          "base_uri": "https://localhost:8080/",
          "height": 98
        },
        "id": "T8jnx94ovYii",
        "outputId": "8780799e-a89c-47c7-a2bf-83060d28fbdd"
      },
      "execution_count": null,
      "outputs": [
        {
          "output_type": "execute_result",
          "data": {
            "text/html": [
              "<div>\n",
              "<style scoped>\n",
              "    .dataframe tbody tr th:only-of-type {\n",
              "        vertical-align: middle;\n",
              "    }\n",
              "\n",
              "    .dataframe tbody tr th {\n",
              "        vertical-align: top;\n",
              "    }\n",
              "\n",
              "    .dataframe thead th {\n",
              "        text-align: right;\n",
              "    }\n",
              "</style>\n",
              "<table border=\"1\" class=\"dataframe\">\n",
              "  <thead>\n",
              "    <tr style=\"text-align: right;\">\n",
              "      <th></th>\n",
              "      <th>aliases</th>\n",
              "      <th>date_of_birth</th>\n",
              "      <th>nationality</th>\n",
              "      <th>gender</th>\n",
              "      <th>lastrevid</th>\n",
              "      <th>ethnic_group</th>\n",
              "      <th>US_congress_bio_ID</th>\n",
              "      <th>occupation</th>\n",
              "      <th>party</th>\n",
              "      <th>academic_degree</th>\n",
              "      <th>id</th>\n",
              "      <th>label</th>\n",
              "      <th>candidacy</th>\n",
              "      <th>type</th>\n",
              "      <th>religion</th>\n",
              "    </tr>\n",
              "  </thead>\n",
              "  <tbody>\n",
              "    <tr>\n",
              "      <th>3398127</th>\n",
              "      <td>[Lisa Ann Murkowski]</td>\n",
              "      <td>[+1957-05-22T00:00:00Z]</td>\n",
              "      <td>[Q30]</td>\n",
              "      <td>[Q6581072]</td>\n",
              "      <td>1392288800</td>\n",
              "      <td>None</td>\n",
              "      <td>M001153</td>\n",
              "      <td>[Q82955, Q40348]</td>\n",
              "      <td>[Q29468]</td>\n",
              "      <td>None</td>\n",
              "      <td>Q22360</td>\n",
              "      <td>Lisa Murkowski</td>\n",
              "      <td>None</td>\n",
              "      <td>item</td>\n",
              "      <td>[Q9592]</td>\n",
              "    </tr>\n",
              "  </tbody>\n",
              "</table>\n",
              "</div>"
            ],
            "text/plain": [
              "                      aliases            date_of_birth  ...  type religion\n",
              "3398127  [Lisa Ann Murkowski]  [+1957-05-22T00:00:00Z]  ...  item  [Q9592]\n",
              "\n",
              "[1 rows x 15 columns]"
            ]
          },
          "metadata": {},
          "execution_count": 8
        }
      ]
    },
    {
      "cell_type": "code",
      "source": [
        "df_speakers[df_speakers.label == 'Donald Trump']"
      ],
      "metadata": {
        "colab": {
          "base_uri": "https://localhost:8080/",
          "height": 182
        },
        "id": "5-jnEIxP3h__",
        "outputId": "dcfcb982-81e0-4559-9731-1e1c14b9038a"
      },
      "execution_count": 7,
      "outputs": [
        {
          "output_type": "execute_result",
          "data": {
            "text/html": [
              "<div>\n",
              "<style scoped>\n",
              "    .dataframe tbody tr th:only-of-type {\n",
              "        vertical-align: middle;\n",
              "    }\n",
              "\n",
              "    .dataframe tbody tr th {\n",
              "        vertical-align: top;\n",
              "    }\n",
              "\n",
              "    .dataframe thead th {\n",
              "        text-align: right;\n",
              "    }\n",
              "</style>\n",
              "<table border=\"1\" class=\"dataframe\">\n",
              "  <thead>\n",
              "    <tr style=\"text-align: right;\">\n",
              "      <th></th>\n",
              "      <th>aliases</th>\n",
              "      <th>date_of_birth</th>\n",
              "      <th>nationality</th>\n",
              "      <th>gender</th>\n",
              "      <th>lastrevid</th>\n",
              "      <th>ethnic_group</th>\n",
              "      <th>US_congress_bio_ID</th>\n",
              "      <th>occupation</th>\n",
              "      <th>party</th>\n",
              "      <th>academic_degree</th>\n",
              "      <th>id</th>\n",
              "      <th>label</th>\n",
              "      <th>candidacy</th>\n",
              "      <th>type</th>\n",
              "      <th>religion</th>\n",
              "    </tr>\n",
              "  </thead>\n",
              "  <tbody>\n",
              "    <tr>\n",
              "      <th>2267061</th>\n",
              "      <td>[Donald John Trump, Donald J. Trump, Trump, Th...</td>\n",
              "      <td>[+1946-06-14T00:00:00Z]</td>\n",
              "      <td>[Q30]</td>\n",
              "      <td>[Q6581097]</td>\n",
              "      <td>1395141850</td>\n",
              "      <td>None</td>\n",
              "      <td>None</td>\n",
              "      <td>[Q911554, Q557880, Q3427922, Q15980158, Q13152...</td>\n",
              "      <td>[Q29468, Q1897793, Q29552, Q29468, Q29468]</td>\n",
              "      <td>[Q787674]</td>\n",
              "      <td>Q22686</td>\n",
              "      <td>Donald Trump</td>\n",
              "      <td>[Q699872, Q22923830, Q38051523]</td>\n",
              "      <td>item</td>\n",
              "      <td>[Q178169]</td>\n",
              "    </tr>\n",
              "    <tr>\n",
              "      <th>8337605</th>\n",
              "      <td>[Donald L. Trump, Donald Lynn Trump, Skip Trum...</td>\n",
              "      <td>[+1945-07-31T00:00:00Z, +1945-00-00T00:00:00Z]</td>\n",
              "      <td>[Q30]</td>\n",
              "      <td>[Q6581097]</td>\n",
              "      <td>1392088288</td>\n",
              "      <td>None</td>\n",
              "      <td>None</td>\n",
              "      <td>[Q39631, Q16062369]</td>\n",
              "      <td>None</td>\n",
              "      <td>[Q913404]</td>\n",
              "      <td>Q27947481</td>\n",
              "      <td>Donald Trump</td>\n",
              "      <td>None</td>\n",
              "      <td>item</td>\n",
              "      <td>None</td>\n",
              "    </tr>\n",
              "  </tbody>\n",
              "</table>\n",
              "</div>"
            ],
            "text/plain": [
              "                                                   aliases  ...   religion\n",
              "2267061  [Donald John Trump, Donald J. Trump, Trump, Th...  ...  [Q178169]\n",
              "8337605  [Donald L. Trump, Donald Lynn Trump, Skip Trum...  ...       None\n",
              "\n",
              "[2 rows x 15 columns]"
            ]
          },
          "metadata": {},
          "execution_count": 7
        }
      ]
    },
    {
      "cell_type": "code",
      "source": [
        "df[df.qids == 'Q22360']"
      ],
      "metadata": {
        "colab": {
          "base_uri": "https://localhost:8080/",
          "height": 49
        },
        "id": "UmxEM3ifxE_6",
        "outputId": "ae1562e5-f0a3-46d0-b1af-e32e8d5b276c"
      },
      "execution_count": 10,
      "outputs": [
        {
          "output_type": "execute_result",
          "data": {
            "text/html": [
              "<div>\n",
              "<style scoped>\n",
              "    .dataframe tbody tr th:only-of-type {\n",
              "        vertical-align: middle;\n",
              "    }\n",
              "\n",
              "    .dataframe tbody tr th {\n",
              "        vertical-align: top;\n",
              "    }\n",
              "\n",
              "    .dataframe thead th {\n",
              "        text-align: right;\n",
              "    }\n",
              "</style>\n",
              "<table border=\"1\" class=\"dataframe\">\n",
              "  <thead>\n",
              "    <tr style=\"text-align: right;\">\n",
              "      <th></th>\n",
              "      <th>quoteID</th>\n",
              "      <th>quotation</th>\n",
              "      <th>speaker</th>\n",
              "      <th>qids</th>\n",
              "      <th>date</th>\n",
              "      <th>numOccurrences</th>\n",
              "      <th>probas</th>\n",
              "      <th>urls</th>\n",
              "    </tr>\n",
              "  </thead>\n",
              "  <tbody>\n",
              "  </tbody>\n",
              "</table>\n",
              "</div>"
            ],
            "text/plain": [
              "Empty DataFrame\n",
              "Columns: [quoteID, quotation, speaker, qids, date, numOccurrences, probas, urls]\n",
              "Index: []"
            ]
          },
          "metadata": {},
          "execution_count": 10
        }
      ]
    }
  ]
}