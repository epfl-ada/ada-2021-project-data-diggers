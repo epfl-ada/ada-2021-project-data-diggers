{
 "cells": [
  {
   "cell_type": "code",
   "execution_count": 1,
   "id": "d9ae07b5-d06a-4245-8de0-149dfbf2cf19",
   "metadata": {},
   "outputs": [],
   "source": [
    "from bertopic import BERTopic\n",
    "import pandas as pd\n",
    "import numpy as np\n",
    "import bz2\n",
    "import json\n",
    "from sklearn.feature_extraction.text import CountVectorizer\n",
    "from hdbscan import HDBSCAN"
   ]
  },
  {
   "cell_type": "code",
   "execution_count": 7,
   "id": "03e6f015-a08e-4c98-9b74-c1ce7ec16f97",
   "metadata": {},
   "outputs": [],
   "source": [
    "DATASET_PATH = './quotes_nyt.json'\n",
    "PATH_MODEL = './bertopic_model'"
   ]
  },
  {
   "cell_type": "code",
   "execution_count": 8,
   "id": "b442fafd-494d-4e99-8ea2-6d619e471c69",
   "metadata": {},
   "outputs": [
    {
     "data": {
      "text/plain": [
       "(858367, 9)"
      ]
     },
     "execution_count": 8,
     "metadata": {},
     "output_type": "execute_result"
    }
   ],
   "source": [
    "# Load dataset\n",
    "df = pd.read_json(DATASET_PATH, orient='index')\n",
    "df.shape"
   ]
  },
  {
   "cell_type": "code",
   "execution_count": 9,
   "id": "bf478c49-ff4d-4dbc-bd37-da674220a1c8",
   "metadata": {},
   "outputs": [],
   "source": [
    "quotes = df.quotation.to_list()"
   ]
  },
  {
   "cell_type": "code",
   "execution_count": 10,
   "id": "dad627fb-4518-4859-8aa6-8e9d34e0ebd5",
   "metadata": {},
   "outputs": [],
   "source": [
    "vectorizer_model = CountVectorizer(stop_words='english')\n",
    "hdbscan_model = HDBSCAN(core_dist_n_jobs=1, prediction_data=True)"
   ]
  },
  {
   "cell_type": "code",
   "execution_count": 11,
   "id": "9f4ffff0-8331-4606-b348-4b34408be585",
   "metadata": {},
   "outputs": [],
   "source": [
    "topic_model = BERTopic(min_topic_size=100,\n",
    "                       low_memory=True,\n",
    "                       calculate_probabilities=False,\n",
    "                       verbose=True,\n",
    "                       vectorizer_model=vectorizer_model,\n",
    "                       hdbscan_model=hdbscan_model).load(PATH_MODEL)\n"
   ]
  },
  {
   "cell_type": "code",
   "execution_count": 7,
   "id": "7d248a58-f89b-4e96-a96e-d22cc87c9f23",
   "metadata": {},
   "outputs": [
    {
     "data": {
      "application/vnd.jupyter.widget-view+json": {
       "model_id": "ccbfba92bc6b4a73b80f055e85834f81",
       "version_major": 2,
       "version_minor": 0
      },
      "text/plain": [
       "Batches:   0%|          | 0/31250 [00:00<?, ?it/s]"
      ]
     },
     "metadata": {},
     "output_type": "display_data"
    },
    {
     "name": "stderr",
     "output_type": "stream",
     "text": [
      "2021-12-16 21:34:47,756 - BERTopic - Transformed documents to Embeddings\n",
      "2021-12-16 21:53:56,860 - BERTopic - Reduced dimensionality with UMAP\n",
      "2021-12-16 22:06:18,711 - BERTopic - Clustered UMAP embeddings with HDBSCAN\n",
      "2021-12-16 22:14:57,959 - BERTopic - Reduced number of topics from 11959 to 7907\n"
     ]
    }
   ],
   "source": [
    "# Fit\n",
    "topic_model = BERTopic(min_topic_size=100,\n",
    "                       nr_topics='auto',\n",
    "                       low_memory=True,\n",
    "                       calculate_probabilities=False,\n",
    "                       verbose=True,\n",
    "                       vectorizer_model=vectorizer_model,\n",
    "                       hdbscan_model=hdbscan_model).fit(training_set)"
   ]
  },
  {
   "cell_type": "code",
   "execution_count": 12,
   "id": "14800fca-d3c0-4707-9578-531174db1f85",
   "metadata": {},
   "outputs": [],
   "source": [
    "topic_model.save(PATH_MODEL)"
   ]
  },
  {
   "cell_type": "code",
   "execution_count": null,
   "id": "f2ecfbee-7dd0-4dbe-86cb-03389c2c0ac2",
   "metadata": {},
   "outputs": [
    {
     "data": {
      "text/plain": [
       "7073"
      ]
     },
     "execution_count": 12,
     "metadata": {},
     "output_type": "execute_result"
    }
   ],
   "source": [
    "#Number of topics\n",
    "len(topic_model.get_topics())"
   ]
  },
  {
   "cell_type": "code",
   "execution_count": 12,
   "id": "76a97c7f-849c-4825-bce4-f13080725e89",
   "metadata": {},
   "outputs": [
    {
     "data": {
      "text/html": [
       "<div>\n",
       "<style scoped>\n",
       "    .dataframe tbody tr th:only-of-type {\n",
       "        vertical-align: middle;\n",
       "    }\n",
       "\n",
       "    .dataframe tbody tr th {\n",
       "        vertical-align: top;\n",
       "    }\n",
       "\n",
       "    .dataframe thead th {\n",
       "        text-align: right;\n",
       "    }\n",
       "</style>\n",
       "<table border=\"1\" class=\"dataframe\">\n",
       "  <thead>\n",
       "    <tr style=\"text-align: right;\">\n",
       "      <th></th>\n",
       "      <th>Topic</th>\n",
       "      <th>Count</th>\n",
       "      <th>Name</th>\n",
       "    </tr>\n",
       "  </thead>\n",
       "  <tbody>\n",
       "    <tr>\n",
       "      <th>0</th>\n",
       "      <td>-1</td>\n",
       "      <td>420063</td>\n",
       "      <td>-1_defendants_defendant_prosecution_dressed</td>\n",
       "    </tr>\n",
       "    <tr>\n",
       "      <th>1</th>\n",
       "      <td>0</td>\n",
       "      <td>4380</td>\n",
       "      <td>0_russias_putins_vladimir_moscow</td>\n",
       "    </tr>\n",
       "    <tr>\n",
       "      <th>2</th>\n",
       "      <td>1</td>\n",
       "      <td>3926</td>\n",
       "      <td>1_beijing_chinas_chinaus_beijings</td>\n",
       "    </tr>\n",
       "    <tr>\n",
       "      <th>3</th>\n",
       "      <td>2</td>\n",
       "      <td>2647</td>\n",
       "      <td>2_justices_judges_judicial_judiciary</td>\n",
       "    </tr>\n",
       "    <tr>\n",
       "      <th>4</th>\n",
       "      <td>3</td>\n",
       "      <td>2290</td>\n",
       "      <td>3_negro_africanamericans_blacks_africanamerican</td>\n",
       "    </tr>\n",
       "    <tr>\n",
       "      <th>5</th>\n",
       "      <td>4</td>\n",
       "      <td>2205</td>\n",
       "      <td>4_singing_sing_sang_songwriting</td>\n",
       "    </tr>\n",
       "    <tr>\n",
       "      <th>6</th>\n",
       "      <td>5</td>\n",
       "      <td>1980</td>\n",
       "      <td>5_yorkers_yorker_brooklyn_yorks</td>\n",
       "    </tr>\n",
       "    <tr>\n",
       "      <th>7</th>\n",
       "      <td>6</td>\n",
       "      <td>1942</td>\n",
       "      <td>6_solutions_fixing_fixes_repair</td>\n",
       "    </tr>\n",
       "    <tr>\n",
       "      <th>8</th>\n",
       "      <td>7</td>\n",
       "      <td>1904</td>\n",
       "      <td>7_cristiano_ronaldo_mourinho_zlatan</td>\n",
       "    </tr>\n",
       "    <tr>\n",
       "      <th>9</th>\n",
       "      <td>8</td>\n",
       "      <td>1791</td>\n",
       "      <td>8_deduction_taxation_deductions_taxed</td>\n",
       "    </tr>\n",
       "    <tr>\n",
       "      <th>10</th>\n",
       "      <td>9</td>\n",
       "      <td>1715</td>\n",
       "      <td>9_irans_iranians_iranian_tehran</td>\n",
       "    </tr>\n",
       "    <tr>\n",
       "      <th>11</th>\n",
       "      <td>10</td>\n",
       "      <td>1643</td>\n",
       "      <td>10_sanders_bernie_clintons_sanderss</td>\n",
       "    </tr>\n",
       "    <tr>\n",
       "      <th>12</th>\n",
       "      <td>11</td>\n",
       "      <td>1622</td>\n",
       "      <td>11_innings_pitches_inning_pitching</td>\n",
       "    </tr>\n",
       "    <tr>\n",
       "      <th>13</th>\n",
       "      <td>12</td>\n",
       "      <td>1589</td>\n",
       "      <td>12_cinema_filmmakers_films_filmmaking</td>\n",
       "    </tr>\n",
       "    <tr>\n",
       "      <th>14</th>\n",
       "      <td>13</td>\n",
       "      <td>1581</td>\n",
       "      <td>13_storytelling_narratives_storys_storytellers</td>\n",
       "    </tr>\n",
       "    <tr>\n",
       "      <th>15</th>\n",
       "      <td>14</td>\n",
       "      <td>1539</td>\n",
       "      <td>14_progressives_partisanship_moderates_democrat</td>\n",
       "    </tr>\n",
       "    <tr>\n",
       "      <th>16</th>\n",
       "      <td>15</td>\n",
       "      <td>1381</td>\n",
       "      <td>15_palestinian_palestinians_israelis_gaza</td>\n",
       "    </tr>\n",
       "    <tr>\n",
       "      <th>17</th>\n",
       "      <td>16</td>\n",
       "      <td>1381</td>\n",
       "      <td>16_racing_ferrari_f1_prix</td>\n",
       "    </tr>\n",
       "    <tr>\n",
       "      <th>18</th>\n",
       "      <td>17</td>\n",
       "      <td>1354</td>\n",
       "      <td>17_frances_vichy_parisian_gaulle</td>\n",
       "    </tr>\n",
       "    <tr>\n",
       "      <th>19</th>\n",
       "      <td>18</td>\n",
       "      <td>1326</td>\n",
       "      <td>18_memo_memories_forgetting_remembers</td>\n",
       "    </tr>\n",
       "  </tbody>\n",
       "</table>\n",
       "</div>"
      ],
      "text/plain": [
       "    Topic   Count                                             Name\n",
       "0      -1  420063      -1_defendants_defendant_prosecution_dressed\n",
       "1       0    4380                 0_russias_putins_vladimir_moscow\n",
       "2       1    3926                1_beijing_chinas_chinaus_beijings\n",
       "3       2    2647             2_justices_judges_judicial_judiciary\n",
       "4       3    2290  3_negro_africanamericans_blacks_africanamerican\n",
       "5       4    2205                  4_singing_sing_sang_songwriting\n",
       "6       5    1980                  5_yorkers_yorker_brooklyn_yorks\n",
       "7       6    1942                  6_solutions_fixing_fixes_repair\n",
       "8       7    1904              7_cristiano_ronaldo_mourinho_zlatan\n",
       "9       8    1791            8_deduction_taxation_deductions_taxed\n",
       "10      9    1715                  9_irans_iranians_iranian_tehran\n",
       "11     10    1643              10_sanders_bernie_clintons_sanderss\n",
       "12     11    1622               11_innings_pitches_inning_pitching\n",
       "13     12    1589            12_cinema_filmmakers_films_filmmaking\n",
       "14     13    1581   13_storytelling_narratives_storys_storytellers\n",
       "15     14    1539  14_progressives_partisanship_moderates_democrat\n",
       "16     15    1381        15_palestinian_palestinians_israelis_gaza\n",
       "17     16    1381                        16_racing_ferrari_f1_prix\n",
       "18     17    1354                 17_frances_vichy_parisian_gaulle\n",
       "19     18    1326            18_memo_memories_forgetting_remembers"
      ]
     },
     "execution_count": 12,
     "metadata": {},
     "output_type": "execute_result"
    }
   ],
   "source": [
    "topic_model.get_topic_info()[:20]"
   ]
  },
  {
   "cell_type": "markdown",
   "id": "a7030883-af66-47dc-9d74-35718a2b62e1",
   "metadata": {},
   "source": [
    "It is really impressive how Bertopic is able to extract so well-clustered topics."
   ]
  },
  {
   "cell_type": "code",
   "execution_count": 13,
   "id": "95785f14-dbac-4212-b5f1-b7bd1f3f6b01",
   "metadata": {},
   "outputs": [
    {
     "data": {
      "application/vnd.jupyter.widget-view+json": {
       "model_id": "57e1c826438e4636a2a2a8d925313102",
       "version_major": 2,
       "version_minor": 0
      },
      "text/plain": [
       "Batches:   0%|          | 0/26824 [00:00<?, ?it/s]"
      ]
     },
     "metadata": {},
     "output_type": "display_data"
    }
   ],
   "source": [
    "# Labeling quotes\n",
    "topics, _ = topic_model.transform(quotes)"
   ]
  },
  {
   "cell_type": "code",
   "execution_count": 14,
   "id": "87a56c1a-5407-44a7-8813-b5bb0a30abd5",
   "metadata": {},
   "outputs": [],
   "source": [
    "# Add a 'topic' column to the original dataframe \n",
    "df['topic'] = topics"
   ]
  },
  {
   "cell_type": "code",
   "execution_count": 15,
   "id": "45395532-35f0-422d-a057-93eb932551f1",
   "metadata": {},
   "outputs": [
    {
     "data": {
      "text/plain": [
       "(858367, 10)"
      ]
     },
     "execution_count": 15,
     "metadata": {},
     "output_type": "execute_result"
    }
   ],
   "source": [
    "df.shape"
   ]
  },
  {
   "cell_type": "markdown",
   "id": "3cccffad-bb23-40cb-a961-1c60afddf73c",
   "metadata": {},
   "source": [
    "Remove outliers which are the quotes labeled with -1."
   ]
  },
  {
   "cell_type": "code",
   "execution_count": 19,
   "id": "6942f47c-dbc6-4b02-97e4-668c7af6e9c3",
   "metadata": {},
   "outputs": [],
   "source": [
    "df = df[df.topic!=-1]"
   ]
  },
  {
   "cell_type": "code",
   "execution_count": 23,
   "id": "3882fb94-859e-431f-b1b5-ed126a51d30b",
   "metadata": {},
   "outputs": [],
   "source": [
    "# Save augmented dataset\n",
    "df.to_json('quotes_topics.json', orient=\"index\")"
   ]
  },
  {
   "cell_type": "code",
   "execution_count": 24,
   "id": "43499860-347c-4256-aed1-aea897f4bfac",
   "metadata": {},
   "outputs": [],
   "source": [
    "# Save topics information\n",
    "topic_model.get_topic_info().to_json('topics_info.json', orient=\"index\")"
   ]
  },
  {
   "cell_type": "code",
   "execution_count": null,
   "id": "b6cc15d5-b61d-45a3-92ec-203557253bd9",
   "metadata": {},
   "outputs": [],
   "source": []
  }
 ],
 "metadata": {
  "kernelspec": {
   "display_name": "Python 3 (ipykernel)",
   "language": "python",
   "name": "python3"
  },
  "language_info": {
   "codemirror_mode": {
    "name": "ipython",
    "version": 3
   },
   "file_extension": ".py",
   "mimetype": "text/x-python",
   "name": "python",
   "nbconvert_exporter": "python",
   "pygments_lexer": "ipython3",
   "version": "3.8.8"
  }
 },
 "nbformat": 4,
 "nbformat_minor": 5
}
