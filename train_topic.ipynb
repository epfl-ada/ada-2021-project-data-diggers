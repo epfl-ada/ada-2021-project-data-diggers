{
 "cells": [
  {
   "cell_type": "code",
   "execution_count": 1,
   "id": "d9ae07b5-d06a-4245-8de0-149dfbf2cf19",
   "metadata": {},
   "outputs": [],
   "source": [
    "from bertopic import BERTopic\n",
    "import pandas as pd\n",
    "import numpy as np\n",
    "import bz2\n",
    "import json\n",
    "from sklearn.feature_extraction.text import CountVectorizer\n",
    "from sentence_transformers import SentenceTransformer\n",
    "from hdbscan import HDBSCAN"
   ]
  },
  {
   "cell_type": "code",
   "execution_count": 2,
   "id": "03e6f015-a08e-4c98-9b74-c1ce7ec16f97",
   "metadata": {},
   "outputs": [],
   "source": [
    "DATASET_PATH = './quotes_nyt.json'\n",
    "PATH_MODEL = './bertopic_model'"
   ]
  },
  {
   "cell_type": "code",
   "execution_count": 3,
   "id": "b442fafd-494d-4e99-8ea2-6d619e471c69",
   "metadata": {},
   "outputs": [
    {
     "data": {
      "text/plain": [
       "(858367, 9)"
      ]
     },
     "execution_count": 3,
     "metadata": {},
     "output_type": "execute_result"
    }
   ],
   "source": [
    "# Load dataset\n",
    "df = pd.read_json(DATASET_PATH, orient='index')\n",
    "df.shape"
   ]
  },
  {
   "cell_type": "code",
   "execution_count": 4,
   "id": "e1ced0de-1e69-4f2c-b3c7-2c1f2b4b2cb4",
   "metadata": {},
   "outputs": [],
   "source": [
    "quotes = df.quotation.to_list()"
   ]
  },
  {
   "cell_type": "code",
   "execution_count": 5,
   "id": "a5d79077-8c48-411b-a3bf-c0cd8a7e6d55",
   "metadata": {},
   "outputs": [],
   "source": [
    "# Define stopwords\n",
    "stop_words_file = \"stop_words_english.txt\"\n",
    "with open(stop_words_file, \"r\", encoding='utf-8') as f:\n",
    "    stop_words = f.read().splitlines() "
   ]
  },
  {
   "cell_type": "code",
   "execution_count": 6,
   "id": "dad627fb-4518-4859-8aa6-8e9d34e0ebd5",
   "metadata": {},
   "outputs": [],
   "source": [
    "vectorizer_model = CountVectorizer(stop_words=stop_words)\n",
    "hdbscan_model = HDBSCAN(core_dist_n_jobs=1, prediction_data = True)"
   ]
  },
  {
   "cell_type": "code",
   "execution_count": 7,
   "id": "7d248a58-f89b-4e96-a96e-d22cc87c9f23",
   "metadata": {},
   "outputs": [
    {
     "data": {
      "application/vnd.jupyter.widget-view+json": {
       "model_id": "32b7e489a965488abaff671d3fb32ca6",
       "version_major": 2,
       "version_minor": 0
      },
      "text/plain": [
       "Batches:   0%|          | 0/26824 [00:00<?, ?it/s]"
      ]
     },
     "metadata": {},
     "output_type": "display_data"
    },
    {
     "name": "stderr",
     "output_type": "stream",
     "text": [
      "2021-12-16 09:57:11,758 - BERTopic - Transformed documents to Embeddings\n",
      "2021-12-16 10:11:08,885 - BERTopic - Reduced dimensionality with UMAP\n",
      "2021-12-16 10:20:45,845 - BERTopic - Clustered UMAP embeddings with HDBSCAN\n"
     ]
    }
   ],
   "source": [
    "# Fit\n",
    "topic_model = BERTopic(min_topic_size=100,\n",
    "                       low_memory=True,\n",
    "                       calculate_probabilities=False,\n",
    "                       verbose=True,\n",
    "                       vectorizer_model=vectorizer_model,\n",
    "                       hdbscan_model=hdbscan_model).fit(quotes)"
   ]
  },
  {
   "cell_type": "code",
   "execution_count": 8,
   "id": "14800fca-d3c0-4707-9578-531174db1f85",
   "metadata": {},
   "outputs": [],
   "source": [
    "topic_model.save(PATH_MODEL)"
   ]
  },
  {
   "cell_type": "code",
   "execution_count": 17,
   "id": "76a97c7f-849c-4825-bce4-f13080725e89",
   "metadata": {},
   "outputs": [
    {
     "data": {
      "text/html": [
       "<div>\n",
       "<style scoped>\n",
       "    .dataframe tbody tr th:only-of-type {\n",
       "        vertical-align: middle;\n",
       "    }\n",
       "\n",
       "    .dataframe tbody tr th {\n",
       "        vertical-align: top;\n",
       "    }\n",
       "\n",
       "    .dataframe thead th {\n",
       "        text-align: right;\n",
       "    }\n",
       "</style>\n",
       "<table border=\"1\" class=\"dataframe\">\n",
       "  <thead>\n",
       "    <tr style=\"text-align: right;\">\n",
       "      <th></th>\n",
       "      <th>Topic</th>\n",
       "      <th>Count</th>\n",
       "      <th>Name</th>\n",
       "    </tr>\n",
       "  </thead>\n",
       "  <tbody>\n",
       "    <tr>\n",
       "      <th>0</th>\n",
       "      <td>-1</td>\n",
       "      <td>420545</td>\n",
       "      <td>-1_feminine_husbands_wives_painter</td>\n",
       "    </tr>\n",
       "    <tr>\n",
       "      <th>1</th>\n",
       "      <td>0</td>\n",
       "      <td>3780</td>\n",
       "      <td>0_beijings_beijing_chinaus_shanghai</td>\n",
       "    </tr>\n",
       "    <tr>\n",
       "      <th>2</th>\n",
       "      <td>1</td>\n",
       "      <td>3008</td>\n",
       "      <td>1_putins_vladimir_russias_moscow</td>\n",
       "    </tr>\n",
       "    <tr>\n",
       "      <th>3</th>\n",
       "      <td>2</td>\n",
       "      <td>2279</td>\n",
       "      <td>2_justices_appellate_courtroom_judiciary</td>\n",
       "    </tr>\n",
       "    <tr>\n",
       "      <th>4</th>\n",
       "      <td>3</td>\n",
       "      <td>2201</td>\n",
       "      <td>3_parenting_childs_toddlers_preschool</td>\n",
       "    </tr>\n",
       "    <tr>\n",
       "      <th>5</th>\n",
       "      <td>4</td>\n",
       "      <td>2194</td>\n",
       "      <td>4_yorker_yorks_manhattan_nyc</td>\n",
       "    </tr>\n",
       "    <tr>\n",
       "      <th>6</th>\n",
       "      <td>5</td>\n",
       "      <td>2084</td>\n",
       "      <td>5_deduction_deductions_taxed_taxation</td>\n",
       "    </tr>\n",
       "    <tr>\n",
       "      <th>7</th>\n",
       "      <td>6</td>\n",
       "      <td>1642</td>\n",
       "      <td>6_negro_blackness_negroes_africanamericans</td>\n",
       "    </tr>\n",
       "    <tr>\n",
       "      <th>8</th>\n",
       "      <td>7</td>\n",
       "      <td>1531</td>\n",
       "      <td>7_hillarys_congresswoman_palin_clintons</td>\n",
       "    </tr>\n",
       "    <tr>\n",
       "      <th>9</th>\n",
       "      <td>8</td>\n",
       "      <td>1491</td>\n",
       "      <td>8_iranians_irans_tehran_hardliners</td>\n",
       "    </tr>\n",
       "  </tbody>\n",
       "</table>\n",
       "</div>"
      ],
      "text/plain": [
       "   Topic   Count                                        Name\n",
       "0     -1  420545          -1_feminine_husbands_wives_painter\n",
       "1      0    3780         0_beijings_beijing_chinaus_shanghai\n",
       "2      1    3008            1_putins_vladimir_russias_moscow\n",
       "3      2    2279    2_justices_appellate_courtroom_judiciary\n",
       "4      3    2201       3_parenting_childs_toddlers_preschool\n",
       "5      4    2194                4_yorker_yorks_manhattan_nyc\n",
       "6      5    2084       5_deduction_deductions_taxed_taxation\n",
       "7      6    1642  6_negro_blackness_negroes_africanamericans\n",
       "8      7    1531     7_hillarys_congresswoman_palin_clintons\n",
       "9      8    1491          8_iranians_irans_tehran_hardliners"
      ]
     },
     "execution_count": 17,
     "metadata": {},
     "output_type": "execute_result"
    }
   ],
   "source": [
    "topic_model.get_topic_info()[:10]"
   ]
  },
  {
   "cell_type": "code",
   "execution_count": 10,
   "id": "95785f14-dbac-4212-b5f1-b7bd1f3f6b01",
   "metadata": {},
   "outputs": [
    {
     "data": {
      "application/vnd.jupyter.widget-view+json": {
       "model_id": "538f11bd401140beb642d913ee03ba15",
       "version_major": 2,
       "version_minor": 0
      },
      "text/plain": [
       "Batches:   0%|          | 0/26824 [00:00<?, ?it/s]"
      ]
     },
     "metadata": {},
     "output_type": "display_data"
    }
   ],
   "source": [
    "# Labeling quotes\n",
    "topics, _ = topic_model.transform(quotes)"
   ]
  },
  {
   "cell_type": "code",
   "execution_count": 11,
   "id": "87a56c1a-5407-44a7-8813-b5bb0a30abd5",
   "metadata": {},
   "outputs": [],
   "source": [
    "df['topic'] = topics"
   ]
  },
  {
   "cell_type": "code",
   "execution_count": null,
   "id": "3882fb94-859e-431f-b1b5-ed126a51d30b",
   "metadata": {},
   "outputs": [],
   "source": [
    "# Save augmented dataset\n",
    "df_json = df.to_json('quotes_topics', orient=\"index\")"
   ]
  },
  {
   "cell_type": "code",
   "execution_count": 16,
   "id": "810c2ff8-a356-4c43-ace0-b447e2551399",
   "metadata": {},
   "outputs": [
    {
     "data": {
      "text/html": [
       "<div>\n",
       "<style scoped>\n",
       "    .dataframe tbody tr th:only-of-type {\n",
       "        vertical-align: middle;\n",
       "    }\n",
       "\n",
       "    .dataframe tbody tr th {\n",
       "        vertical-align: top;\n",
       "    }\n",
       "\n",
       "    .dataframe thead th {\n",
       "        text-align: right;\n",
       "    }\n",
       "</style>\n",
       "<table border=\"1\" class=\"dataframe\">\n",
       "  <thead>\n",
       "    <tr style=\"text-align: right;\">\n",
       "      <th></th>\n",
       "      <th>quoteID</th>\n",
       "      <th>quotation</th>\n",
       "      <th>speaker</th>\n",
       "      <th>qids</th>\n",
       "      <th>date</th>\n",
       "      <th>numOccurrences</th>\n",
       "      <th>probas</th>\n",
       "      <th>urls</th>\n",
       "      <th>phase</th>\n",
       "      <th>topic</th>\n",
       "    </tr>\n",
       "  </thead>\n",
       "  <tbody>\n",
       "    <tr>\n",
       "      <th>0</th>\n",
       "      <td>2020-02-18-004289</td>\n",
       "      <td>an appetite for power.</td>\n",
       "      <td>None</td>\n",
       "      <td>[]</td>\n",
       "      <td>2020-02-18 14:44:45</td>\n",
       "      <td>3</td>\n",
       "      <td>[[None, 0.3665], [Robin Niblett, 0.3339], [Jos...</td>\n",
       "      <td>[https://hypervocal.com/items/3249757, https:/...</td>\n",
       "      <td>E</td>\n",
       "      <td>188</td>\n",
       "    </tr>\n",
       "    <tr>\n",
       "      <th>1</th>\n",
       "      <td>2020-01-09-006199</td>\n",
       "      <td>Andrew Yang's Lies About Supporting Medicare f...</td>\n",
       "      <td>Andrew Yang</td>\n",
       "      <td>[Q11118258, Q28723576]</td>\n",
       "      <td>2020-01-09 01:21:54</td>\n",
       "      <td>2</td>\n",
       "      <td>[[Andrew Yang, 0.7197], [None, 0.2804]]</td>\n",
       "      <td>[https://www.nytimes.com/2020/01/08/opinion/me...</td>\n",
       "      <td>E</td>\n",
       "      <td>3851</td>\n",
       "    </tr>\n",
       "    <tr>\n",
       "      <th>2</th>\n",
       "      <td>2020-01-22-017789</td>\n",
       "      <td>eager to erase the image of congressional Repu...</td>\n",
       "      <td>Eric Cantor</td>\n",
       "      <td>[Q497271]</td>\n",
       "      <td>2020-01-22 21:20:52</td>\n",
       "      <td>2</td>\n",
       "      <td>[[Eric Cantor, 0.5013], [None, 0.3045], [Kevin...</td>\n",
       "      <td>[http://mobile.nytimes.com/2020/01/22/us/polit...</td>\n",
       "      <td>E</td>\n",
       "      <td>-1</td>\n",
       "    </tr>\n",
       "    <tr>\n",
       "      <th>3</th>\n",
       "      <td>2020-01-31-022641</td>\n",
       "      <td>Given the partisan nature of this impeachment ...</td>\n",
       "      <td>Lisa Murkowski</td>\n",
       "      <td>[Q22360]</td>\n",
       "      <td>2020-01-31 00:00:00</td>\n",
       "      <td>24</td>\n",
       "      <td>[[Lisa Murkowski, 0.6433], [None, 0.224], [Joh...</td>\n",
       "      <td>[http://feeds.foxnews.com/~r/foxnews/politics/...</td>\n",
       "      <td>E</td>\n",
       "      <td>6535</td>\n",
       "    </tr>\n",
       "    <tr>\n",
       "      <th>4</th>\n",
       "      <td>2020-01-23-024008</td>\n",
       "      <td>He got on top of me, and he raped me.</td>\n",
       "      <td>Annabella Sciorra</td>\n",
       "      <td>[Q231395]</td>\n",
       "      <td>2020-01-23 00:00:00</td>\n",
       "      <td>75</td>\n",
       "      <td>[[Annabella Sciorra, 0.5251], [Harvey Weinstei...</td>\n",
       "      <td>[https://www.rawstory.com/2020/01/sopranos-act...</td>\n",
       "      <td>E</td>\n",
       "      <td>3838</td>\n",
       "    </tr>\n",
       "  </tbody>\n",
       "</table>\n",
       "</div>"
      ],
      "text/plain": [
       "             quoteID                                          quotation  \\\n",
       "0  2020-02-18-004289                             an appetite for power.   \n",
       "1  2020-01-09-006199  Andrew Yang's Lies About Supporting Medicare f...   \n",
       "2  2020-01-22-017789  eager to erase the image of congressional Repu...   \n",
       "3  2020-01-31-022641  Given the partisan nature of this impeachment ...   \n",
       "4  2020-01-23-024008              He got on top of me, and he raped me.   \n",
       "\n",
       "             speaker                    qids                date  \\\n",
       "0               None                      [] 2020-02-18 14:44:45   \n",
       "1        Andrew Yang  [Q11118258, Q28723576] 2020-01-09 01:21:54   \n",
       "2        Eric Cantor               [Q497271] 2020-01-22 21:20:52   \n",
       "3     Lisa Murkowski                [Q22360] 2020-01-31 00:00:00   \n",
       "4  Annabella Sciorra               [Q231395] 2020-01-23 00:00:00   \n",
       "\n",
       "   numOccurrences                                             probas  \\\n",
       "0               3  [[None, 0.3665], [Robin Niblett, 0.3339], [Jos...   \n",
       "1               2            [[Andrew Yang, 0.7197], [None, 0.2804]]   \n",
       "2               2  [[Eric Cantor, 0.5013], [None, 0.3045], [Kevin...   \n",
       "3              24  [[Lisa Murkowski, 0.6433], [None, 0.224], [Joh...   \n",
       "4              75  [[Annabella Sciorra, 0.5251], [Harvey Weinstei...   \n",
       "\n",
       "                                                urls phase  topic  \n",
       "0  [https://hypervocal.com/items/3249757, https:/...     E    188  \n",
       "1  [https://www.nytimes.com/2020/01/08/opinion/me...     E   3851  \n",
       "2  [http://mobile.nytimes.com/2020/01/22/us/polit...     E     -1  \n",
       "3  [http://feeds.foxnews.com/~r/foxnews/politics/...     E   6535  \n",
       "4  [https://www.rawstory.com/2020/01/sopranos-act...     E   3838  "
      ]
     },
     "execution_count": 16,
     "metadata": {},
     "output_type": "execute_result"
    }
   ],
   "source": [
    "df.head()"
   ]
  },
  {
   "cell_type": "code",
   "execution_count": 13,
   "id": "43499860-347c-4256-aed1-aea897f4bfac",
   "metadata": {},
   "outputs": [],
   "source": [
    "# Save model\n",
    "topic_model.get_topic_info().to_json('topics_info', orient=\"index\")"
   ]
  },
  {
   "cell_type": "code",
   "execution_count": 27,
   "id": "5871f157-580f-4b1c-809b-2df70c95018d",
   "metadata": {},
   "outputs": [
    {
     "data": {
      "text/plain": [
       "[('beijings', 0.0021196342063963215),\n",
       " ('beijing', 0.0019653227601270696),\n",
       " ('chinaus', 0.0016565958543176365),\n",
       " ('shanghai', 0.0014343154481039663),\n",
       " ('zhang', 0.0009808039439948859),\n",
       " ('chineseamerican', 0.000726674785055448),\n",
       " ('yuan', 0.0006794125806808262),\n",
       " ('euchina', 0.0005865849466177186),\n",
       " ('shenzhen', 0.0005258193750105361),\n",
       " ('zhou', 0.0004967961347313305)]"
      ]
     },
     "execution_count": 27,
     "metadata": {},
     "output_type": "execute_result"
    }
   ],
   "source": [
    "topic_model.get_topics()[0]"
   ]
  },
  {
   "cell_type": "code",
   "execution_count": null,
   "id": "d851a1f9-bbe3-4fe2-acd6-43ffea98a1e8",
   "metadata": {},
   "outputs": [],
   "source": []
  }
 ],
 "metadata": {
  "kernelspec": {
   "display_name": "Python 3 (ipykernel)",
   "language": "python",
   "name": "python3"
  },
  "language_info": {
   "codemirror_mode": {
    "name": "ipython",
    "version": 3
   },
   "file_extension": ".py",
   "mimetype": "text/x-python",
   "name": "python",
   "nbconvert_exporter": "python",
   "pygments_lexer": "ipython3",
   "version": "3.8.8"
  }
 },
 "nbformat": 4,
 "nbformat_minor": 5
}
